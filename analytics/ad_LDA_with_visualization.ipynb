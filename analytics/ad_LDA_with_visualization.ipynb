{
 "cells": [
  {
   "cell_type": "code",
   "execution_count": 6,
   "metadata": {
    "ExecuteTime": {
     "end_time": "2023-12-09T06:13:58.768487700Z",
     "start_time": "2023-12-09T06:13:58.738434900Z"
    },
    "id": "zLyOs1CW2UGb"
   },
   "outputs": [
    {
     "data": {
      "text/html": [
       "<div>\n",
       "<style scoped>\n",
       "    .dataframe tbody tr th:only-of-type {\n",
       "        vertical-align: middle;\n",
       "    }\n",
       "\n",
       "    .dataframe tbody tr th {\n",
       "        vertical-align: top;\n",
       "    }\n",
       "\n",
       "    .dataframe thead th {\n",
       "        text-align: right;\n",
       "    }\n",
       "</style>\n",
       "<table border=\"1\" class=\"dataframe\">\n",
       "  <thead>\n",
       "    <tr style=\"text-align: right;\">\n",
       "      <th></th>\n",
       "      <th>Unnamed: 0.1</th>\n",
       "      <th>Unnamed: 0</th>\n",
       "      <th>name</th>\n",
       "      <th>len_img</th>\n",
       "      <th>ad</th>\n",
       "    </tr>\n",
       "  </thead>\n",
       "  <tbody>\n",
       "    <tr>\n",
       "      <th>0</th>\n",
       "      <td>0</td>\n",
       "      <td>0</td>\n",
       "      <td>[2023어워즈/3년연속] 아누아 어성초 77 수딩 토너 350ml 어워즈 한정 기...</td>\n",
       "      <td>9</td>\n",
       "      <td>단독 어워즈 한정 기획 버워스 토너 부문 단독 어워즈 한정 기획 아누 어성초 수딩 ...</td>\n",
       "    </tr>\n",
       "    <tr>\n",
       "      <th>1</th>\n",
       "      <td>1</td>\n",
       "      <td>1</td>\n",
       "      <td>[12/4 하루특가][2023어워즈] 아비브 어성초 카밍 토너 스킨부스터 더블 기획...</td>\n",
       "      <td>4</td>\n",
       "      <td>올리브영 어워즈 진정 케어 기준 아비 어성초 토너 스킨 토너 어성초 토너 더블 어워...</td>\n",
       "    </tr>\n",
       "    <tr>\n",
       "      <th>2</th>\n",
       "      <td>2</td>\n",
       "      <td>2</td>\n",
       "      <td>[한정기획] 라네즈 크림스킨 170ml 리필 기획 (+170ml 리필)</td>\n",
       "      <td>10</td>\n",
       "      <td>크림 스킨 리필팩 기획 세트 기획 세트 기획 세트 구성 크림 스킨 리필팩 오특 비아...</td>\n",
       "    </tr>\n",
       "    <tr>\n",
       "      <th>3</th>\n",
       "      <td>3</td>\n",
       "      <td>3</td>\n",
       "      <td>[2023어워즈] 라운드랩 1025 독도 토너 500ml 어워즈 한정기획(+크림50...</td>\n",
       "      <td>17</td>\n",
       "      <td>단독 구성 자작나무 수분 크림 수분 진정 비타 일루 동시 차오 수분 필요 지치다 피...</td>\n",
       "    </tr>\n",
       "    <tr>\n",
       "      <th>4</th>\n",
       "      <td>4</td>\n",
       "      <td>4</td>\n",
       "      <td>[백현팬싸응모]브링그린 티트리시카 수딩 토너 500ml 어워즈 한정기획(+크림20m...</td>\n",
       "      <td>11</td>\n",
       "      <td>강력 트리 싸르 케어 올리브영 대표 트러블 토너 수상 올리브영 어워즈 스킨 토너 부...</td>\n",
       "    </tr>\n",
       "    <tr>\n",
       "      <th>...</th>\n",
       "      <td>...</td>\n",
       "      <td>...</td>\n",
       "      <td>...</td>\n",
       "      <td>...</td>\n",
       "      <td>...</td>\n",
       "    </tr>\n",
       "    <tr>\n",
       "      <th>194</th>\n",
       "      <td>194</td>\n",
       "      <td>290</td>\n",
       "      <td>더마펌 울트라 수딩 토너 R4 200ml (수분진정)</td>\n",
       "      <td>9</td>\n",
       "      <td>피부 진정 순도 아줄렌 놀랍다 진정 능력 라인 민감 피부 찾다 저자극 진정 토너 더...</td>\n",
       "    </tr>\n",
       "    <tr>\n",
       "      <th>195</th>\n",
       "      <td>195</td>\n",
       "      <td>291</td>\n",
       "      <td>아비브 어성초 카밍 토너 스킨부스터 500ml+화장솜 30매 증정 기획</td>\n",
       "      <td>3</td>\n",
       "      <td>단독 기획 어성초 토너 대용량 기획 진정 토너 저자극 진정 진정 저자극 피부결 케어...</td>\n",
       "    </tr>\n",
       "    <tr>\n",
       "      <th>196</th>\n",
       "      <td>196</td>\n",
       "      <td>292</td>\n",
       "      <td>헤이네이처 어성초 스킨 토너 모이스처라이저 150ml (촉촉)</td>\n",
       "      <td>6</td>\n",
       "      <td>어성초 스킨 타입 안내 올리브영 성조 스킨 촉촉 타입 운영 죽다 이다 구매 참고 바...</td>\n",
       "    </tr>\n",
       "    <tr>\n",
       "      <th>197</th>\n",
       "      <td>197</td>\n",
       "      <td>293</td>\n",
       "      <td>더말로지카 멀티-액티브 토너 50ml</td>\n",
       "      <td>2</td>\n",
       "      <td>피부 전문가 의하다 만들다 어진 피부 전문 코스 브랜드 말로 서로 피부 밉다 해결 ...</td>\n",
       "    </tr>\n",
       "    <tr>\n",
       "      <th>198</th>\n",
       "      <td>198</td>\n",
       "      <td>294</td>\n",
       "      <td>[박보검 PICK] 비오템 옴므 포스 수프림 토너 200ml</td>\n",
       "      <td>1</td>\n",
       "      <td>상품 설명 프록실린 성분 삼나무 추출 성분 즉각 피부 진정 피부 탄력 증가 토너 사...</td>\n",
       "    </tr>\n",
       "  </tbody>\n",
       "</table>\n",
       "<p>199 rows × 5 columns</p>\n",
       "</div>"
      ],
      "text/plain": [
       "     Unnamed: 0.1  Unnamed: 0  \\\n",
       "0               0           0   \n",
       "1               1           1   \n",
       "2               2           2   \n",
       "3               3           3   \n",
       "4               4           4   \n",
       "..            ...         ...   \n",
       "194           194         290   \n",
       "195           195         291   \n",
       "196           196         292   \n",
       "197           197         293   \n",
       "198           198         294   \n",
       "\n",
       "                                                  name  len_img  \\\n",
       "0    [2023어워즈/3년연속] 아누아 어성초 77 수딩 토너 350ml 어워즈 한정 기...        9   \n",
       "1    [12/4 하루특가][2023어워즈] 아비브 어성초 카밍 토너 스킨부스터 더블 기획...        4   \n",
       "2              [한정기획] 라네즈 크림스킨 170ml 리필 기획 (+170ml 리필)       10   \n",
       "3    [2023어워즈] 라운드랩 1025 독도 토너 500ml 어워즈 한정기획(+크림50...       17   \n",
       "4    [백현팬싸응모]브링그린 티트리시카 수딩 토너 500ml 어워즈 한정기획(+크림20m...       11   \n",
       "..                                                 ...      ...   \n",
       "194                      더마펌 울트라 수딩 토너 R4 200ml (수분진정)        9   \n",
       "195            아비브 어성초 카밍 토너 스킨부스터 500ml+화장솜 30매 증정 기획        3   \n",
       "196                 헤이네이처 어성초 스킨 토너 모이스처라이저 150ml (촉촉)        6   \n",
       "197                               더말로지카 멀티-액티브 토너 50ml        2   \n",
       "198                  [박보검 PICK] 비오템 옴므 포스 수프림 토너 200ml        1   \n",
       "\n",
       "                                                    ad  \n",
       "0    단독 어워즈 한정 기획 버워스 토너 부문 단독 어워즈 한정 기획 아누 어성초 수딩 ...  \n",
       "1    올리브영 어워즈 진정 케어 기준 아비 어성초 토너 스킨 토너 어성초 토너 더블 어워...  \n",
       "2    크림 스킨 리필팩 기획 세트 기획 세트 기획 세트 구성 크림 스킨 리필팩 오특 비아...  \n",
       "3    단독 구성 자작나무 수분 크림 수분 진정 비타 일루 동시 차오 수분 필요 지치다 피...  \n",
       "4    강력 트리 싸르 케어 올리브영 대표 트러블 토너 수상 올리브영 어워즈 스킨 토너 부...  \n",
       "..                                                 ...  \n",
       "194  피부 진정 순도 아줄렌 놀랍다 진정 능력 라인 민감 피부 찾다 저자극 진정 토너 더...  \n",
       "195  단독 기획 어성초 토너 대용량 기획 진정 토너 저자극 진정 진정 저자극 피부결 케어...  \n",
       "196  어성초 스킨 타입 안내 올리브영 성조 스킨 촉촉 타입 운영 죽다 이다 구매 참고 바...  \n",
       "197  피부 전문가 의하다 만들다 어진 피부 전문 코스 브랜드 말로 서로 피부 밉다 해결 ...  \n",
       "198  상품 설명 프록실린 성분 삼나무 추출 성분 즉각 피부 진정 피부 탄력 증가 토너 사...  \n",
       "\n",
       "[199 rows x 5 columns]"
      ]
     },
     "execution_count": 6,
     "metadata": {},
     "output_type": "execute_result"
    }
   ],
   "source": [
    "import pandas as pd\n",
    "\n",
    "advertisement = pd.read_csv('../docs/oliveyoung_advertisement_preprocessed.csv', encoding='UTF-8')\n",
    "\n",
    "advertisement"
   ]
  },
  {
   "cell_type": "code",
   "execution_count": 7,
   "metadata": {
    "ExecuteTime": {
     "end_time": "2023-12-09T06:14:00.995004800Z",
     "start_time": "2023-12-09T06:14:00.983090100Z"
    },
    "colab": {
     "base_uri": "https://localhost:8080/",
     "height": 424
    },
    "id": "mj9M99zb3n6u",
    "outputId": "e8cf222d-837c-4f7f-f645-1b68679c9c03"
   },
   "outputs": [
    {
     "data": {
      "text/html": [
       "<div>\n",
       "<style scoped>\n",
       "    .dataframe tbody tr th:only-of-type {\n",
       "        vertical-align: middle;\n",
       "    }\n",
       "\n",
       "    .dataframe tbody tr th {\n",
       "        vertical-align: top;\n",
       "    }\n",
       "\n",
       "    .dataframe thead th {\n",
       "        text-align: right;\n",
       "    }\n",
       "</style>\n",
       "<table border=\"1\" class=\"dataframe\">\n",
       "  <thead>\n",
       "    <tr style=\"text-align: right;\">\n",
       "      <th></th>\n",
       "      <th>ad</th>\n",
       "    </tr>\n",
       "  </thead>\n",
       "  <tbody>\n",
       "    <tr>\n",
       "      <th>0</th>\n",
       "      <td>단독 어워즈 한정 기획 버워스 토너 부문 단독 어워즈 한정 기획 아누 어성초 수딩 ...</td>\n",
       "    </tr>\n",
       "    <tr>\n",
       "      <th>1</th>\n",
       "      <td>올리브영 어워즈 진정 케어 기준 아비 어성초 토너 스킨 토너 어성초 토너 더블 어워...</td>\n",
       "    </tr>\n",
       "    <tr>\n",
       "      <th>2</th>\n",
       "      <td>크림 스킨 리필팩 기획 세트 기획 세트 기획 세트 구성 크림 스킨 리필팩 오특 비아...</td>\n",
       "    </tr>\n",
       "    <tr>\n",
       "      <th>3</th>\n",
       "      <td>단독 구성 자작나무 수분 크림 수분 진정 비타 일루 동시 차오 수분 필요 지치다 피...</td>\n",
       "    </tr>\n",
       "    <tr>\n",
       "      <th>4</th>\n",
       "      <td>강력 트리 싸르 케어 올리브영 대표 트러블 토너 수상 올리브영 어워즈 스킨 토너 부...</td>\n",
       "    </tr>\n",
       "    <tr>\n",
       "      <th>...</th>\n",
       "      <td>...</td>\n",
       "    </tr>\n",
       "    <tr>\n",
       "      <th>194</th>\n",
       "      <td>피부 진정 순도 아줄렌 놀랍다 진정 능력 라인 민감 피부 찾다 저자극 진정 토너 더...</td>\n",
       "    </tr>\n",
       "    <tr>\n",
       "      <th>195</th>\n",
       "      <td>단독 기획 어성초 토너 대용량 기획 진정 토너 저자극 진정 진정 저자극 피부결 케어...</td>\n",
       "    </tr>\n",
       "    <tr>\n",
       "      <th>196</th>\n",
       "      <td>어성초 스킨 타입 안내 올리브영 성조 스킨 촉촉 타입 운영 죽다 이다 구매 참고 바...</td>\n",
       "    </tr>\n",
       "    <tr>\n",
       "      <th>197</th>\n",
       "      <td>피부 전문가 의하다 만들다 어진 피부 전문 코스 브랜드 말로 서로 피부 밉다 해결 ...</td>\n",
       "    </tr>\n",
       "    <tr>\n",
       "      <th>198</th>\n",
       "      <td>상품 설명 프록실린 성분 삼나무 추출 성분 즉각 피부 진정 피부 탄력 증가 토너 사...</td>\n",
       "    </tr>\n",
       "  </tbody>\n",
       "</table>\n",
       "<p>199 rows × 1 columns</p>\n",
       "</div>"
      ],
      "text/plain": [
       "                                                    ad\n",
       "0    단독 어워즈 한정 기획 버워스 토너 부문 단독 어워즈 한정 기획 아누 어성초 수딩 ...\n",
       "1    올리브영 어워즈 진정 케어 기준 아비 어성초 토너 스킨 토너 어성초 토너 더블 어워...\n",
       "2    크림 스킨 리필팩 기획 세트 기획 세트 기획 세트 구성 크림 스킨 리필팩 오특 비아...\n",
       "3    단독 구성 자작나무 수분 크림 수분 진정 비타 일루 동시 차오 수분 필요 지치다 피...\n",
       "4    강력 트리 싸르 케어 올리브영 대표 트러블 토너 수상 올리브영 어워즈 스킨 토너 부...\n",
       "..                                                 ...\n",
       "194  피부 진정 순도 아줄렌 놀랍다 진정 능력 라인 민감 피부 찾다 저자극 진정 토너 더...\n",
       "195  단독 기획 어성초 토너 대용량 기획 진정 토너 저자극 진정 진정 저자극 피부결 케어...\n",
       "196  어성초 스킨 타입 안내 올리브영 성조 스킨 촉촉 타입 운영 죽다 이다 구매 참고 바...\n",
       "197  피부 전문가 의하다 만들다 어진 피부 전문 코스 브랜드 말로 서로 피부 밉다 해결 ...\n",
       "198  상품 설명 프록실린 성분 삼나무 추출 성분 즉각 피부 진정 피부 탄력 증가 토너 사...\n",
       "\n",
       "[199 rows x 1 columns]"
      ]
     },
     "execution_count": 7,
     "metadata": {},
     "output_type": "execute_result"
    }
   ],
   "source": [
    "# 광고 문구 안에서만 볼거니까 ad만 남김.\n",
    "advertisement_ad = advertisement.iloc[:, 4:]\n",
    "advertisement_ad"
   ]
  },
  {
   "cell_type": "code",
   "execution_count": 8,
   "metadata": {
    "ExecuteTime": {
     "end_time": "2023-12-09T06:14:08.221959200Z",
     "start_time": "2023-12-09T06:14:02.024654500Z"
    },
    "colab": {
     "base_uri": "https://localhost:8080/"
    },
    "id": "0oezLXjmZHK2",
    "outputId": "020f11c9-aaf7-4d1d-8714-b46fa6299d83"
   },
   "outputs": [
    {
     "name": "stdout",
     "output_type": "stream",
     "text": [
      "0      [단독, 어워즈, 한정, 기획, 버워스, 토너, 부문, 단독, 어워즈, 한정, 기획...\n",
      "1      [올리브영, 어워즈, 진정, 케어, 기준, 아비, 어성초, 토너, 스킨, 토너, 어...\n",
      "2      [크림, 스킨, 리필팩, 기획, 세트, 기획, 세트, 기획, 세트, 구성, 크림, ...\n",
      "3      [단독, 구성, 자작나무, 수분, 크림, 수분, 진정, 비타, 일루, 동시, 차오,...\n",
      "4      [강력, 트리, 싸르, 케어, 올리브영, 대표, 트러블, 토너, 수상, 올리브영, ...\n",
      "                             ...                        \n",
      "194    [피부, 진정, 순도, 아줄렌, 놀랍다, 진정, 능력, 라인, 민감, 피부, 찾다,...\n",
      "195    [단독, 기획, 어성초, 토너, 대, 용량, 기획, 진정, 토너, 저, 자극, 진정...\n",
      "196    [어성초, 스킨, 타입, 안내, 올리브영, 성조, 스킨, 촉촉, 타입, 운영, 죽다...\n",
      "197    [피부, 전문가, 의하다, 만들다, 어진, 피부, 전문, 코스, 브랜드, 말로, 서...\n",
      "198    [상품, 설명, 프록실린, 성분, 삼나무, 추출, 성분, 즉각, 피부, 진정, 피부...\n",
      "Name: tokenized_text, Length: 199, dtype: object\n"
     ]
    }
   ],
   "source": [
    "import pandas as pd\n",
    "from konlpy.tag import Okt\n",
    "\n",
    "# 토크나이저 초기화\n",
    "tokenizer = Okt()\n",
    "\n",
    "# 토큰화된 데이터 저장할 리스트 초기화\n",
    "tokenized_data = []\n",
    "\n",
    "# 데이터 토큰화\n",
    "for text in advertisement_ad['ad']:\n",
    "    tokens = tokenizer.morphs(text)  # 형태소 분석으로 토큰화\n",
    "    tokenized_data.append(tokens)\n",
    "\n",
    "# 토큰화된 데이터 저장\n",
    "advertisement_ad['tokenized_text'] = tokenized_data\n",
    "\n",
    "# 저장된 데이터 확인\n",
    "print(advertisement_ad['tokenized_text'])"
   ]
  },
  {
   "cell_type": "code",
   "execution_count": 10,
   "metadata": {
    "ExecuteTime": {
     "end_time": "2023-12-09T06:14:48.009785900Z",
     "start_time": "2023-12-09T06:14:47.993686700Z"
    },
    "colab": {
     "base_uri": "https://localhost:8080/"
    },
    "id": "Sb2Qy5cma2uM",
    "outputId": "bf170d66-ac9d-440a-8fdf-b7b9b9c8052d"
   },
   "outputs": [
    {
     "name": "stdout",
     "output_type": "stream",
     "text": [
      "[(11, 1), (15, 1), (16, 1), (27, 1), (43, 2), (51, 1), (54, 1), (63, 1), (65, 2), (68, 1), (69, 1), (79, 2), (81, 3), (86, 2), (93, 11), (94, 1), (95, 2), (101, 1), (110, 1), (115, 5), (121, 1), (123, 5), (127, 2), (134, 11), (139, 3), (141, 4), (144, 1), (146, 10), (150, 1), (154, 14), (165, 1), (166, 3), (167, 1), (168, 1), (169, 1), (170, 1), (171, 4), (172, 1), (173, 1), (174, 1), (175, 1), (176, 1), (177, 1), (178, 1), (179, 1), (180, 1), (181, 1), (182, 1), (183, 1), (184, 1), (185, 1), (186, 1), (187, 1), (188, 1), (189, 1), (190, 2), (191, 1), (192, 1), (193, 1), (194, 2), (195, 1), (196, 1), (197, 1), (198, 1), (199, 2), (200, 4), (201, 1), (202, 1), (203, 1), (204, 1), (205, 1), (206, 1), (207, 1), (208, 2), (209, 1), (210, 1), (211, 1), (212, 1), (213, 1), (214, 2), (215, 1), (216, 1), (217, 2), (218, 1), (219, 3), (220, 1), (221, 1), (222, 1), (223, 1), (224, 1), (225, 1), (226, 1), (227, 1), (228, 1), (229, 1), (230, 1), (231, 1), (232, 1), (233, 1), (234, 1), (235, 2), (236, 1), (237, 1), (238, 1), (239, 1), (240, 1)]\n"
     ]
    }
   ],
   "source": [
    "# 정수 인코딩\n",
    "# 단어 사전의 몇번 인덱스 단어가 몇번 나왔는지\n",
    "from gensim import corpora\n",
    "\n",
    "dictionary = corpora.Dictionary(tokenized_data)\n",
    "corpus = [dictionary.doc2bow(text) for text in tokenized_data]\n",
    "print(corpus[1])\n",
    "\n",
    "# print(dictionary[0]) 으로 몇번 인덱스 단어가 무엇인지 확인 가능"
   ]
  },
  {
   "cell_type": "code",
   "execution_count": 11,
   "metadata": {
    "ExecuteTime": {
     "end_time": "2023-12-09T06:14:58.008616900Z",
     "start_time": "2023-12-09T06:14:55.218619500Z"
    },
    "colab": {
     "base_uri": "https://localhost:8080/"
    },
    "id": "3mRbmMqca25Y",
    "outputId": "aecdaa5a-3c7b-4402-eb9c-4d3cb4346615"
   },
   "outputs": [
    {
     "name": "stdout",
     "output_type": "stream",
     "text": [
      "(0, '0.039*\"피부\" + 0.014*\"사용\" + 0.013*\"진정\" + 0.013*\"수분\" + 0.012*\"추출\" + 0.011*\"트리\" + 0.009*\"스킨\" + 0.009*\"자극\" + 0.008*\"성분\" + 0.008*\"토너\" + 0.008*\"시험\" + 0.008*\"케어\" + 0.006*\"크림\" + 0.006*\"효과\" + 0.006*\"완료\"')\n",
      "(1, '0.057*\"피부\" + 0.027*\"토너\" + 0.017*\"사용\" + 0.016*\"수분\" + 0.015*\"케어\" + 0.014*\"진정\" + 0.009*\"자극\" + 0.009*\"보습\" + 0.008*\"성분\" + 0.007*\"제품\" + 0.007*\"각질\" + 0.006*\"추출\" + 0.006*\"스킨\" + 0.006*\"민감\" + 0.005*\"결\"')\n",
      "(2, '0.032*\"피부\" + 0.026*\"사용\" + 0.013*\"제품\" + 0.009*\"토너\" + 0.008*\"성분\" + 0.006*\"자극\" + 0.006*\"화장품\" + 0.006*\"이다\" + 0.005*\"클럽\" + 0.005*\"추출\" + 0.005*\"줍다\" + 0.005*\"면도\" + 0.005*\"보관\" + 0.005*\"보습\" + 0.005*\"케어\"')\n"
     ]
    }
   ],
   "source": [
    "#lda\n",
    "import gensim\n",
    "\n",
    "# num_topics: 토픽 갯수\n",
    "ldamodel = gensim.models.ldamodel.LdaModel(corpus, num_topics = 3, id2word=dictionary, passes=15)\n",
    "topics = ldamodel.print_topics(num_words=15)\n",
    "for topic in topics:\n",
    "    print(topic)\n",
    "\n",
    "# 숫자: 토픽에 대한 해당 단어의 가중치"
   ]
  },
  {
   "cell_type": "code",
   "execution_count": 1,
   "metadata": {
    "id": "IEylwSj4uv-T",
    "ExecuteTime": {
     "end_time": "2023-12-09T07:31:17.682194400Z",
     "start_time": "2023-12-09T07:31:15.523834300Z"
    }
   },
   "outputs": [
    {
     "ename": "ModuleNotFoundError",
     "evalue": "No module named 'pyLDAvis.gensim_models'",
     "output_type": "error",
     "traceback": [
      "\u001B[1;31m---------------------------------------------------------------------------\u001B[0m",
      "\u001B[1;31mModuleNotFoundError\u001B[0m                       Traceback (most recent call last)",
      "Cell \u001B[1;32mIn[1], line 2\u001B[0m\n\u001B[0;32m      1\u001B[0m \u001B[38;5;66;03m# 시각화\u001B[39;00m\n\u001B[1;32m----> 2\u001B[0m \u001B[38;5;28;01mimport\u001B[39;00m \u001B[38;5;21;01mpyLDAvis\u001B[39;00m\u001B[38;5;21;01m.\u001B[39;00m\u001B[38;5;21;01mgensim_models\u001B[39;00m\n\u001B[0;32m      4\u001B[0m pyLDAvis\u001B[38;5;241m.\u001B[39menable_notebook()\n\u001B[0;32m      5\u001B[0m vis \u001B[38;5;241m=\u001B[39m pyLDAvis\u001B[38;5;241m.\u001B[39mgensim_models\u001B[38;5;241m.\u001B[39mprepare(ldamodel, corpus, dictionary)\n",
      "\u001B[1;31mModuleNotFoundError\u001B[0m: No module named 'pyLDAvis.gensim_models'"
     ]
    }
   ],
   "source": [
    "# 시각화\n",
    "import pyLDAvis.gensim_models\n",
    "\n",
    "pyLDAvis.enable_notebook()\n",
    "vis = pyLDAvis.gensim_models.prepare(ldamodel, corpus, dictionary)\n",
    "pyLDAvis.display(vis)"
   ]
  },
  {
   "cell_type": "code",
   "execution_count": null,
   "metadata": {},
   "outputs": [],
   "source": []
  }
 ],
 "metadata": {
  "colab": {
   "authorship_tag": "ABX9TyM8ImiHHMK+l3YcW5PnyxMb",
   "mount_file_id": "1QInUh7nWUXCp8w-P2skA5gX-cCvzSNwC",
   "provenance": []
  },
  "kernelspec": {
   "display_name": "Python 3 (ipykernel)",
   "language": "python",
   "name": "python3"
  },
  "language_info": {
   "codemirror_mode": {
    "name": "ipython",
    "version": 3
   },
   "file_extension": ".py",
   "mimetype": "text/x-python",
   "name": "python",
   "nbconvert_exporter": "python",
   "pygments_lexer": "ipython3",
   "version": "3.11.5"
  }
 },
 "nbformat": 4,
 "nbformat_minor": 1
}
