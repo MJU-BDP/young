{
 "cells": [
  {
   "cell_type": "code",
   "execution_count": 151,
   "id": "initial_id",
   "metadata": {
    "collapsed": true,
    "ExecuteTime": {
     "end_time": "2023-12-10T12:32:02.275954900Z",
     "start_time": "2023-12-10T12:32:02.258522200Z"
    }
   },
   "outputs": [],
   "source": [
    "import pandas as pd\n",
    "import numpy as np\n",
    "import matplotlib.pyplot as plt\n",
    "\n",
    "from sklearn.model_selection import train_test_split\n",
    "from sklearn.feature_extraction.text import CountVectorizer\n",
    "from sklearn.feature_extraction.text import TfidfVectorizer\n",
    "from sklearn.linear_model import LogisticRegression"
   ]
  },
  {
   "cell_type": "code",
   "execution_count": 152,
   "outputs": [
    {
     "name": "stdout",
     "output_type": "stream",
     "text": [
      "       GeneralPolarity                                            RawText\n",
      "0                    1            유통기한도 넉넉하고  구성도 많아서 선물 하기 좋네요.   만족합니다.\n",
      "1                    1                                    구성도알차고촉촉하고너무좋아용\n",
      "2                    1  대용량으로 넉넉하게 사용할 수 있고 무난하고 순한 편이네요 제품 구성은 좋으나 가격...\n",
      "3                    1         참존을 이 구성에 이 가격으로 사도 되나 싶은 생각이 드는 제품 양도 많아요\n",
      "4                    1                             끈적임 없이 잘 흡수되어 매우 만족합니다\n",
      "...                ...                                                ...\n",
      "14830                1  향은 좀 약냄새가 나는듯 하지만 발랐을때 정말 잘 스며들고 트러블도 생기지 않습니다...\n",
      "14831                1  촉촉하고 쫀쫀하게 코팅되는 느낌입니다. OOO 특유의 향이 있는데 저는 괜찮네요. ...\n",
      "14832                1  얼굴에 붉은기가 올라오고 따가웠는데 세안 후 스킨 바른 다음 OOO만 발랐는데도 붉...\n",
      "14833                1  써보니 순하고 괜찮은 것 같아서 재구매했습니다. 낮에 바를 때 번들거리는 게 없어 ...\n",
      "14834                1              저렴하게 구매했네요. 발림도 좋고 피부가 쫀득쫀득해지는거 같습니다.\n",
      "\n",
      "[14835 rows x 2 columns]\n"
     ]
    }
   ],
   "source": [
    "df = pd.read_csv('../docs/ai_hub/ai_hub.csv', encoding='UTF-8')\n",
    "\n",
    "review_df = pd.read_csv('../docs/review.csv', encoding='UTF-8')\n",
    "\n",
    "print(df)"
   ],
   "metadata": {
    "collapsed": false,
    "ExecuteTime": {
     "end_time": "2023-12-10T12:32:03.474420500Z",
     "start_time": "2023-12-10T12:32:02.849394200Z"
    }
   },
   "id": "69aaf5881e0b5016"
  },
  {
   "cell_type": "code",
   "execution_count": 153,
   "outputs": [
    {
     "name": "stderr",
     "output_type": "stream",
     "text": [
      "findfont: Font family 'NanumGothic' not found.\n",
      "findfont: Font family 'NanumGothic' not found.\n",
      "findfont: Font family 'NanumGothic' not found.\n",
      "findfont: Font family 'NanumGothic' not found.\n",
      "findfont: Font family 'NanumGothic' not found.\n",
      "findfont: Font family 'NanumGothic' not found.\n",
      "findfont: Font family 'NanumGothic' not found.\n",
      "findfont: Font family 'NanumGothic' not found.\n",
      "findfont: Font family 'NanumGothic' not found.\n",
      "findfont: Font family 'NanumGothic' not found.\n",
      "findfont: Font family 'NanumGothic' not found.\n",
      "findfont: Font family 'NanumGothic' not found.\n",
      "findfont: Font family 'NanumGothic' not found.\n",
      "findfont: Font family 'NanumGothic' not found.\n",
      "findfont: Font family 'NanumGothic' not found.\n",
      "findfont: Font family 'NanumGothic' not found.\n",
      "findfont: Font family 'NanumGothic' not found.\n",
      "findfont: Font family 'NanumGothic' not found.\n",
      "findfont: Font family 'NanumGothic' not found.\n",
      "findfont: Font family 'NanumGothic' not found.\n",
      "findfont: Font family 'NanumGothic' not found.\n",
      "findfont: Font family 'NanumGothic' not found.\n",
      "findfont: Font family 'NanumGothic' not found.\n",
      "findfont: Font family 'NanumGothic' not found.\n",
      "findfont: Font family 'NanumGothic' not found.\n",
      "findfont: Font family 'NanumGothic' not found.\n",
      "findfont: Font family 'NanumGothic' not found.\n",
      "findfont: Font family 'NanumGothic' not found.\n",
      "findfont: Font family 'NanumGothic' not found.\n",
      "findfont: Font family 'NanumGothic' not found.\n",
      "findfont: Font family 'NanumGothic' not found.\n",
      "findfont: Font family 'NanumGothic' not found.\n",
      "findfont: Font family 'NanumGothic' not found.\n",
      "findfont: Font family 'NanumGothic' not found.\n",
      "findfont: Font family 'NanumGothic' not found.\n",
      "findfont: Font family 'NanumGothic' not found.\n",
      "findfont: Font family 'NanumGothic' not found.\n",
      "findfont: Font family 'NanumGothic' not found.\n"
     ]
    },
    {
     "data": {
      "text/plain": "<Figure size 800x600 with 1 Axes>",
      "image/png": "[encoded data removed]"
     },
     "metadata": {},
     "output_type": "display_data"
    }
   ],
   "source": [
    "# GeneralPolarity의 값별로 개수를 집계합니다.\n",
    "polarity_counts = df['GeneralPolarity'].value_counts()\n",
    "\n",
    "# 바 차트로 시각화합니다.\n",
    "plt.figure(figsize=(8, 6))\n",
    "polarity_counts.plot(kind='bar')\n",
    "plt.title('GeneralPolarity Counts')\n",
    "plt.xlabel('GeneralPolarity')\n",
    "plt.ylabel('Count')\n",
    "plt.xticks(rotation=0)  # X축 라벨을 수평으로 설정\n",
    "plt.show()"
   ],
   "metadata": {
    "collapsed": false,
    "ExecuteTime": {
     "end_time": "2023-12-10T12:32:04.165995300Z",
     "start_time": "2023-12-10T12:32:03.936631Z"
    }
   },
   "id": "141187d85ce022f1"
  },
  {
   "cell_type": "code",
   "execution_count": 162,
   "outputs": [
    {
     "name": "stdout",
     "output_type": "stream",
     "text": [
      "14835\n",
      "GeneralPolarity가 -1인 개수: 4289\n"
     ]
    }
   ],
   "source": [
    "# 'GeneralPolarity' 열의 값이 0인 행을 찾아 해당 값을 -1로 변경\n",
    "df.loc[df['GeneralPolarity'] == 0, 'GeneralPolarity'] = -1\n",
    "\n",
    "# 변경 후 데이터프레임 길이 출력\n",
    "print(len(df['GeneralPolarity']))\n",
    "\n",
    "print(\"GeneralPolarity가 -1인 개수:\", len(df[df['GeneralPolarity'] == -1]))"
   ],
   "metadata": {
    "collapsed": false,
    "ExecuteTime": {
     "end_time": "2023-12-10T15:53:08.196581500Z",
     "start_time": "2023-12-10T15:53:07.783108400Z"
    }
   },
   "id": "cb3d0190c2b64b48"
  },
  {
   "cell_type": "code",
   "execution_count": 155,
   "outputs": [
    {
     "name": "stdout",
     "output_type": "stream",
     "text": [
      "False\n",
      "True\n",
      "id            0\n",
      "name       1000\n",
      "date          0\n",
      "content     191\n",
      "dtype: int64\n"
     ]
    }
   ],
   "source": [
    "# null값 체킹\n",
    "print(df.isnull().values.any()) # False\n",
    "print(review_df.isnull().values.any()) #True\n",
    " \n",
    "print(review_df.isnull().sum())"
   ],
   "metadata": {
    "collapsed": false,
    "ExecuteTime": {
     "end_time": "2023-12-10T12:32:12.793841100Z",
     "start_time": "2023-12-10T12:32:12.765938200Z"
    }
   },
   "id": "b13410c25bed8af4"
  },
  {
   "cell_type": "code",
   "execution_count": 156,
   "outputs": [
    {
     "name": "stdout",
     "output_type": "stream",
     "text": [
      "32410\n",
      "              id                                               name  \\\n",
      "0  A000000192697  [2023어워즈/3년연속] 아누아 어성초 77 수딩 토너 350ml 어워즈 한정 기...   \n",
      "1  A000000192697  [2023어워즈/3년연속] 아누아 어성초 77 수딩 토너 350ml 어워즈 한정 기...   \n",
      "2  A000000192697  [2023어워즈/3년연속] 아누아 어성초 77 수딩 토너 350ml 어워즈 한정 기...   \n",
      "3  A000000192697  [2023어워즈/3년연속] 아누아 어성초 77 수딩 토너 350ml 어워즈 한정 기...   \n",
      "4  A000000192697  [2023어워즈/3년연속] 아누아 어성초 77 수딩 토너 350ml 어워즈 한정 기...   \n",
      "\n",
      "         date                                            content  \n",
      "0  2023.11.30  피부타입 : 복합성요 토너 없이는 못살아요겨울 강철 추위도 버티게 해주는 저의 최애...  \n",
      "1  2023.11.28  다른 토너로 갈아탔다가 환절기 때 피부가 뒤집어지고 너무 안 돌아와서 다시 구매합니...  \n",
      "2  2023.11.26  전 이거 하나로 흡토, 닦토 다 하고 있어요 자극없이 순하고 용량도 많아서 밤마다 ...  \n",
      "3  2023.11.19    자극없이 순하고 결 정돈하기 좋은 토너예요👍🏻민감성 지성 복합성 다 두루 쓰기 좋아요  \n",
      "4  2023.11.11  이제는 제 화장대에 없는게 말이 안되는 재구매템정말이지 공병만 몇 십병 만들었을거에...  \n"
     ]
    }
   ],
   "source": [
    "review_df['content'] = review_df['content'].str.replace(\"[^ㄱ-ㅎㅏ-ㅣ가-힣 ]\",\"\")\n",
    "\n",
    "review_df = review_df.dropna(how = 'any')\n",
    "\n",
    "print(len(review_df))\n",
    "\n",
    "print(review_df.head())"
   ],
   "metadata": {
    "collapsed": false,
    "ExecuteTime": {
     "end_time": "2023-12-10T12:32:13.605972Z",
     "start_time": "2023-12-10T12:32:13.580446200Z"
    }
   },
   "id": "f04460edf8ab0045"
  },
  {
   "cell_type": "code",
   "execution_count": 157,
   "outputs": [
    {
     "name": "stdout",
     "output_type": "stream",
     "text": [
      "전처리 후 학습 데이터 수 : 14835\n",
      "훈련 데이터 수: 11868\n",
      "테스트 데이터 수: 2967\n"
     ]
    }
   ],
   "source": [
    "df['RawText'] = df['RawText'].str.replace(\"[^ㄱ-ㅎㅏ-ㅣ가-힣 ]\",\"\") # 정규 표현식 수행\n",
    "df['RawText'] = df['RawText'].str.replace('^ +', \"\") # 공백은 empty 값으로 변경\n",
    "df['RawText'].replace('', np.nan, inplace=True) # 공백은 Null 값으로 변경\n",
    "df = df.dropna(how='any') # Null 값 제거\n",
    "\n",
    "print('전처리 후 학습 데이터 수 :',len(df))\n",
    "\n",
    "# 라벨링 된 데이터를 train - test data set으로 분할.\n",
    "\n",
    "X_train, X_test, y_train, y_test = train_test_split(df['RawText'], df['GeneralPolarity'], test_size=0.2, random_state=42)\n",
    "\n",
    "print(f\"훈련 데이터 수: {len(X_train)}\")\n",
    "print(f\"테스트 데이터 수: {len(X_test)}\")"
   ],
   "metadata": {
    "collapsed": false,
    "ExecuteTime": {
     "end_time": "2023-12-10T12:32:14.268608100Z",
     "start_time": "2023-12-10T12:32:14.251943500Z"
    }
   },
   "id": "52f0b8e72b4f9360"
  },
  {
   "cell_type": "markdown",
   "source": [],
   "metadata": {
    "collapsed": false
   },
   "id": "5f47514444d56533"
  },
  {
   "cell_type": "code",
   "execution_count": 158,
   "outputs": [
    {
     "name": "stderr",
     "output_type": "stream",
     "text": [
      "C:\\Users\\youwj\\anaconda3\\Lib\\site-packages\\sklearn\\linear_model\\_logistic.py:460: ConvergenceWarning: lbfgs failed to converge (status=1):\n",
      "STOP: TOTAL NO. of ITERATIONS REACHED LIMIT.\n",
      "\n",
      "Increase the number of iterations (max_iter) or scale the data as shown in:\n",
      "    https://scikit-learn.org/stable/modules/preprocessing.html\n",
      "Please also refer to the documentation for alternative solver options:\n",
      "    https://scikit-learn.org/stable/modules/linear_model.html#logistic-regression\n",
      "  n_iter_i = _check_optimize_result(\n"
     ]
    },
    {
     "name": "stdout",
     "output_type": "stream",
     "text": [
      "예측 정확도: 0.9036, ROC-AUC: 0.9429\n"
     ]
    }
   ],
   "source": [
    "\n",
    "pipeline = Pipeline([\n",
    "    (\"tfidf_vect\", TfidfVectorizer(stop_words=\"english\", ngram_range=(1,2) ) ),\n",
    "    (\"LR\", LogisticRegression(C=10) )\n",
    "])\n",
    "\n",
    "# 학습/예측/평가\n",
    "pipeline.fit(X_train, y_train)\n",
    "\n",
    "pred = pipeline.predict(X_test)\n",
    "pred_prob = pipeline.predict_proba(X_test)[:,1]\n",
    "\n",
    "acc_lr = accuracy_score(y_test, pred)\n",
    "auc_lr = roc_auc_score(y_test, pred_prob)\n",
    "\n",
    "print(f\"예측 정확도: {acc_lr:.4f}, ROC-AUC: {auc_lr:.4f}\")"
   ],
   "metadata": {
    "collapsed": false,
    "ExecuteTime": {
     "end_time": "2023-12-10T12:32:23.470521800Z",
     "start_time": "2023-12-10T12:32:16.032398100Z"
    }
   },
   "id": "d9ff17a5f5a647a9"
  },
  {
   "cell_type": "code",
   "execution_count": 159,
   "outputs": [],
   "source": [
    "# 학습시킨 모델을 통해 올리브영 댓글에 적용\n",
    "review_df['sentiment'] = pipeline.predict(review_df['content'])"
   ],
   "metadata": {
    "collapsed": false,
    "ExecuteTime": {
     "end_time": "2023-12-10T12:32:32.199006800Z",
     "start_time": "2023-12-10T12:32:27.955589500Z"
    }
   },
   "id": "10b8669cce40944b"
  },
  {
   "cell_type": "code",
   "execution_count": 160,
   "outputs": [
    {
     "name": "stdout",
     "output_type": "stream",
     "text": [
      "                  id                                               name  \\\n",
      "0      A000000192697  [2023어워즈/3년연속] 아누아 어성초 77 수딩 토너 350ml 어워즈 한정 기...   \n",
      "1      A000000192697  [2023어워즈/3년연속] 아누아 어성초 77 수딩 토너 350ml 어워즈 한정 기...   \n",
      "2      A000000192697  [2023어워즈/3년연속] 아누아 어성초 77 수딩 토너 350ml 어워즈 한정 기...   \n",
      "3      A000000192697  [2023어워즈/3년연속] 아누아 어성초 77 수딩 토너 350ml 어워즈 한정 기...   \n",
      "4      A000000192697  [2023어워즈/3년연속] 아누아 어성초 77 수딩 토너 350ml 어워즈 한정 기...   \n",
      "...              ...                                                ...   \n",
      "33595  A000000139057                            아벤느 이드랑스 딥 모이스트로션 200ml   \n",
      "33596  A000000139057                            아벤느 이드랑스 딥 모이스트로션 200ml   \n",
      "33597  A000000139057                            아벤느 이드랑스 딥 모이스트로션 200ml   \n",
      "33598  A000000139057                            아벤느 이드랑스 딥 모이스트로션 200ml   \n",
      "33599  A000000139057                            아벤느 이드랑스 딥 모이스트로션 200ml   \n",
      "\n",
      "             date                                            content  \\\n",
      "0      2023.11.30  피부타입 : 복합성요 토너 없이는 못살아요겨울 강철 추위도 버티게 해주는 저의 최애...   \n",
      "1      2023.11.28  다른 토너로 갈아탔다가 환절기 때 피부가 뒤집어지고 너무 안 돌아와서 다시 구매합니...   \n",
      "2      2023.11.26  전 이거 하나로 흡토, 닦토 다 하고 있어요 자극없이 순하고 용량도 많아서 밤마다 ...   \n",
      "3      2023.11.19    자극없이 순하고 결 정돈하기 좋은 토너예요👍🏻민감성 지성 복합성 다 두루 쓰기 좋아요   \n",
      "4      2023.11.11  이제는 제 화장대에 없는게 말이 안되는 재구매템정말이지 공병만 몇 십병 만들었을거에...   \n",
      "...           ...                                                ...   \n",
      "33595  2021.01.24  후기보고 살짝 콧물 스킨토너 좀 점성이 있는줄 알았는데 막상 받아보니 아주 살짝있어...   \n",
      "33596  2021.01.22  토너를 오래 찾던 중에 겨울에 쓸만한게 이 제품이 딱이더라구요! 저는 겨울되면 얼굴...   \n",
      "33597  2021.01.22  속당김이 엄청 심한편이라 수분크림 . 에센스를 발라도 겨울엔 겉에만 유분기가있지 수...   \n",
      "33598  2021.01.11  수부지 피부, 지성피부에 아벤느 제품이 좋다고해서 처음 구매해봤는데 타 제품들과 달...   \n",
      "33599  2021.01.10  제 피부는 극건성이라ㅠ 왠만한 토너들은 건조한 편이에요ㅠ 그렇다고 크림 스킨을 쓰면...   \n",
      "\n",
      "       sentiment  \n",
      "0              1  \n",
      "1              1  \n",
      "2              1  \n",
      "3              1  \n",
      "4              1  \n",
      "...          ...  \n",
      "33595          1  \n",
      "33596          1  \n",
      "33597          1  \n",
      "33598          1  \n",
      "33599          1  \n",
      "\n",
      "[32410 rows x 5 columns]\n"
     ]
    }
   ],
   "source": [
    "print(review_df)"
   ],
   "metadata": {
    "collapsed": false,
    "ExecuteTime": {
     "end_time": "2023-12-10T12:32:32.807412300Z",
     "start_time": "2023-12-10T12:32:32.792919600Z"
    }
   },
   "id": "297e14771aea1df9"
  },
  {
   "cell_type": "code",
   "execution_count": 161,
   "outputs": [
    {
     "name": "stdout",
     "output_type": "stream",
     "text": [
      "긍정 리뷰 개수: 29044\n",
      "부정 리뷰 개수: 3366\n"
     ]
    }
   ],
   "source": [
    "# 'sentiment' 열을 기준으로 긍정 및 부정 리뷰의 개수 집계\n",
    "sentiment_counts = review_df['sentiment'].value_counts()\n",
    "\n",
    "print(\"긍정 리뷰 개수:\", sentiment_counts.get(1, 0))  \n",
    "print(\"부정 리뷰 개수:\", sentiment_counts.get(-1, 0))  "
   ],
   "metadata": {
    "collapsed": false,
    "ExecuteTime": {
     "end_time": "2023-12-10T12:32:33.916967700Z",
     "start_time": "2023-12-10T12:32:33.895694200Z"
    }
   },
   "id": "f84fe888abc03703"
  },
  {
   "cell_type": "code",
   "execution_count": null,
   "outputs": [],
   "source": [
    "review_df.to_csv('review.csv', index=False, encoding='utf-8-sig')"
   ],
   "metadata": {
    "collapsed": false
   },
   "id": "5f2d8662731e89d3"
  }
 ],
 "metadata": {
  "kernelspec": {
   "display_name": "Python 3",
   "language": "python",
   "name": "python3"
  },
  "language_info": {
   "codemirror_mode": {
    "name": "ipython",
    "version": 2
   },
   "file_extension": ".py",
   "mimetype": "text/x-python",
   "name": "python",
   "nbconvert_exporter": "python",
   "pygments_lexer": "ipython2",
   "version": "2.7.6"
  }
 },
 "nbformat": 4,
 "nbformat_minor": 5
}
