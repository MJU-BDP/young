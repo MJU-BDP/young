{
 "cells": [
  {
   "cell_type": "code",
   "execution_count": 4,
   "id": "initial_id",
   "metadata": {
    "collapsed": true,
    "ExecuteTime": {
     "end_time": "2023-12-11T03:00:31.963316300Z",
     "start_time": "2023-12-11T03:00:31.917420300Z"
    }
   },
   "outputs": [],
   "source": [
    "import pandas as pd\n",
    "import numpy as np\n",
    "import matplotlib.pyplot as plt\n",
    "\n",
    "from sklearn.model_selection import train_test_split\n",
    "from sklearn.feature_extraction.text import TfidfVectorizer\n",
    "from sklearn.linear_model import LogisticRegression"
   ]
  },
  {
   "cell_type": "code",
   "execution_count": 18,
   "outputs": [
    {
     "name": "stdout",
     "output_type": "stream",
     "text": [
      "             SentimentText  SentimentPolarity\n",
      "0               유통기한도 넉넉하고                  1\n",
      "1       구성도 많아서 선물 하기 좋네요.                  1\n",
      "2                   구성도알차고                  1\n",
      "3                촉촉하고너무좋아용                  1\n",
      "4      대용량으로 넉넉하게 사용할 수 있고                  1\n",
      "...                    ...                ...\n",
      "51509                  순하고                  1\n",
      "51510     번들거리는 게 없어 좋습니다.                  1\n",
      "51511          저렴하게 구매했네요.                  1\n",
      "51512               발림도 좋고                  1\n",
      "51513   피부가 쫀득쫀득해지는거 같습니다.                  1\n",
      "\n",
      "[51514 rows x 2 columns]\n"
     ]
    }
   ],
   "source": [
    "df = pd.read_csv('../docs/ai_hub/ai_hub_data.csv', encoding='UTF-8')\n",
    "\n",
    "review_df = pd.read_csv('../docs/review_sort_by_likes.csv', encoding='UTF-8')\n",
    "\n",
    "print(df)"
   ],
   "metadata": {
    "collapsed": false,
    "ExecuteTime": {
     "end_time": "2023-12-11T17:14:15.734426Z",
     "start_time": "2023-12-11T17:14:14.443641400Z"
    }
   },
   "id": "69aaf5881e0b5016"
  },
  {
   "cell_type": "code",
   "execution_count": 26,
   "outputs": [
    {
     "data": {
      "text/plain": "<Figure size 800x600 with 1 Axes>",
      "image/png": "[encoded data removed]"
     },
     "metadata": {},
     "output_type": "display_data"
    }
   ],
   "source": [
    "# GeneralPolarity의 값별로 개수를 집계합니다.\n",
    "polarity_counts = df['SentimentPolarity'].value_counts()\n",
    "\n",
    "# 바 차트로 시각화합니다.\n",
    "plt.figure(figsize=(8, 6))\n",
    "polarity_counts.plot(kind='bar')\n",
    "plt.title('GeneralPolarity Counts')\n",
    "plt.xlabel('GeneralPolarity')\n",
    "plt.ylabel('Count')\n",
    "plt.xticks(rotation=0)  # X축 라벨을 수평으로 설정\n",
    "plt.show()"
   ],
   "metadata": {
    "collapsed": false,
    "ExecuteTime": {
     "end_time": "2023-12-11T17:19:17.812361600Z",
     "start_time": "2023-12-11T17:19:17.547432200Z"
    }
   },
   "id": "141187d85ce022f1"
  },
  {
   "cell_type": "code",
   "execution_count": 31,
   "outputs": [
    {
     "name": "stdout",
     "output_type": "stream",
     "text": [
      "47684\n"
     ]
    }
   ],
   "source": [
    "# 'SentimentPolarity'가 0인 행 삭제\n",
    "df = df[df['SentimentPolarity'] != 0]\n",
    "\n",
    "# 변경 후 데이터프레임 길이 출력\n",
    "print(len(df['SentimentPolarity']))"
   ],
   "metadata": {
    "collapsed": false,
    "ExecuteTime": {
     "end_time": "2023-12-11T17:20:06.506592200Z",
     "start_time": "2023-12-11T17:20:06.391325300Z"
    }
   },
   "id": "cb3d0190c2b64b48"
  },
  {
   "cell_type": "code",
   "execution_count": 32,
   "outputs": [
    {
     "name": "stdout",
     "output_type": "stream",
     "text": [
      "34910\n",
      "              id                                               name  \\\n",
      "0  A000000192697  [2023어워즈/3년연속] 아누아 어성초 77 수딩 토너 350ml 어워즈 한정 기...   \n",
      "1  A000000192697  [2023어워즈/3년연속] 아누아 어성초 77 수딩 토너 350ml 어워즈 한정 기...   \n",
      "2  A000000192697  [2023어워즈/3년연속] 아누아 어성초 77 수딩 토너 350ml 어워즈 한정 기...   \n",
      "3  A000000192697  [2023어워즈/3년연속] 아누아 어성초 77 수딩 토너 350ml 어워즈 한정 기...   \n",
      "4  A000000192697  [2023어워즈/3년연속] 아누아 어성초 77 수딩 토너 350ml 어워즈 한정 기...   \n",
      "\n",
      "         date                                            content  \n",
      "0  2023.11.30  피부타입 : 복합성요 토너 없이는 못살아요겨울 강철 추위도 버티게 해주는 저의 최애...  \n",
      "1  2023.11.28  다른 토너로 갈아탔다가 환절기 때 피부가 뒤집어지고 너무 안 돌아와서 다시 구매합니...  \n",
      "2  2023.11.26  전 이거 하나로 흡토, 닦토 다 하고 있어요 자극없이 순하고 용량도 많아서 밤마다 ...  \n",
      "3  2023.11.19    자극없이 순하고 결 정돈하기 좋은 토너예요👍🏻민감성 지성 복합성 다 두루 쓰기 좋아요  \n",
      "4  2023.11.11  이제는 제 화장대에 없는게 말이 안되는 재구매템정말이지 공병만 몇 십병 만들었을거에...  \n"
     ]
    }
   ],
   "source": [
    "review_df['content'] = review_df['content'].str.replace(\"[^ㄱ-ㅎㅏ-ㅣ가-힣 ]\",\"\")\n",
    "\n",
    "review_df = review_df.dropna(how = 'any')\n",
    "\n",
    "print(len(review_df))\n",
    "\n",
    "print(review_df.head())"
   ],
   "metadata": {
    "collapsed": false,
    "ExecuteTime": {
     "end_time": "2023-12-11T17:20:12.903817900Z",
     "start_time": "2023-12-11T17:20:12.839246700Z"
    }
   },
   "id": "f04460edf8ab0045"
  },
  {
   "cell_type": "code",
   "execution_count": 33,
   "outputs": [
    {
     "name": "stdout",
     "output_type": "stream",
     "text": [
      "전처리 후 학습 데이터 수 : 47684\n",
      "훈련 데이터 수: 38147\n",
      "테스트 데이터 수: 9537\n"
     ]
    }
   ],
   "source": [
    "df['SentimentText'] = df['SentimentText'].str.replace(\"[^ㄱ-ㅎㅏ-ㅣ가-힣 ]\",\"\") # 정규 표현식 수행\n",
    "df['SentimentText'] = df['SentimentText'].str.replace('^ +', \"\") # 공백은 empty 값으로 변경\n",
    "df['SentimentText'].replace('', np.nan, inplace=True) # 공백은 Null 값으로 변경\n",
    "df = df.dropna(how='any') # Null 값 제거\n",
    "\n",
    "print('전처리 후 학습 데이터 수 :',len(df))\n",
    "\n",
    "# 라벨링 된 데이터를 train - test data set으로 분할.\n",
    "\n",
    "X_train, X_test, y_train, y_test = train_test_split(df['SentimentText'], df['SentimentPolarity'], test_size=0.2, random_state=42)\n",
    "\n",
    "print(f\"훈련 데이터 수: {len(X_train)}\")\n",
    "print(f\"테스트 데이터 수: {len(X_test)}\")"
   ],
   "metadata": {
    "collapsed": false,
    "ExecuteTime": {
     "end_time": "2023-12-11T17:20:13.453915300Z",
     "start_time": "2023-12-11T17:20:13.371442900Z"
    }
   },
   "id": "52f0b8e72b4f9360"
  },
  {
   "cell_type": "markdown",
   "source": [],
   "metadata": {
    "collapsed": false
   },
   "id": "5f47514444d56533"
  },
  {
   "cell_type": "code",
   "execution_count": 34,
   "outputs": [
    {
     "name": "stderr",
     "output_type": "stream",
     "text": [
      "C:\\Users\\youwj\\anaconda3\\Lib\\site-packages\\sklearn\\linear_model\\_logistic.py:460: ConvergenceWarning: lbfgs failed to converge (status=1):\n",
      "STOP: TOTAL NO. of ITERATIONS REACHED LIMIT.\n",
      "\n",
      "Increase the number of iterations (max_iter) or scale the data as shown in:\n",
      "    https://scikit-learn.org/stable/modules/preprocessing.html\n",
      "Please also refer to the documentation for alternative solver options:\n",
      "    https://scikit-learn.org/stable/modules/linear_model.html#logistic-regression\n",
      "  n_iter_i = _check_optimize_result(\n"
     ]
    },
    {
     "name": "stdout",
     "output_type": "stream",
     "text": [
      "예측 정확도: 0.9294, ROC-AUC: 0.9694\n"
     ]
    }
   ],
   "source": [
    "from sklearn.metrics import accuracy_score, roc_auc_score\n",
    "from sklearn.pipeline import Pipeline\n",
    "\n",
    "pipeline = Pipeline([\n",
    "    (\"tfidf_vect\", TfidfVectorizer(stop_words=\"english\", ngram_range=(1,2) ) ),\n",
    "    (\"LR\", LogisticRegression(C=10) )\n",
    "])\n",
    "\n",
    "# 학습/예측/평가\n",
    "pipeline.fit(X_train, y_train)\n",
    "\n",
    "pred = pipeline.predict(X_test)\n",
    "pred_prob = pipeline.predict_proba(X_test)[:,1]\n",
    "\n",
    "acc_lr = accuracy_score(y_test, pred)\n",
    "auc_lr = roc_auc_score(y_test, pred_prob)\n",
    "\n",
    "print(f\"예측 정확도: {acc_lr:.4f}, ROC-AUC: {auc_lr:.4f}\")"
   ],
   "metadata": {
    "collapsed": false,
    "ExecuteTime": {
     "end_time": "2023-12-11T17:20:23.798050400Z",
     "start_time": "2023-12-11T17:20:19.737856900Z"
    }
   },
   "id": "d9ff17a5f5a647a9"
  },
  {
   "cell_type": "code",
   "execution_count": 1,
   "outputs": [
    {
     "name": "stderr",
     "output_type": "stream",
     "text": [
      "C:\\Users\\youwj\\anaconda3\\Lib\\site-packages\\sklearn\\linear_model\\_logistic.py:460: ConvergenceWarning: lbfgs failed to converge (status=1):\n",
      "STOP: TOTAL NO. of ITERATIONS REACHED LIMIT.\n",
      "\n",
      "Increase the number of iterations (max_iter) or scale the data as shown in:\n",
      "    https://scikit-learn.org/stable/modules/preprocessing.html\n",
      "Please also refer to the documentation for alternative solver options:\n",
      "    https://scikit-learn.org/stable/modules/linear_model.html#logistic-regression\n",
      "  n_iter_i = _check_optimize_result(\n"
     ]
    },
    {
     "name": "stdout",
     "output_type": "stream",
     "text": [
      "예측 정확도: 0.9294, ROC-AUC: 0.9694\n"
     ]
    }
   ],
   "source": [
    "import pandas as pd\n",
    "import numpy as np\n",
    "\n",
    "from sklearn.model_selection import train_test_split\n",
    "from sklearn.feature_extraction.text import TfidfVectorizer\n",
    "from sklearn.linear_model import LogisticRegression\n",
    "\n",
    "from sklearn.metrics import accuracy_score, roc_auc_score\n",
    "from sklearn.pipeline import Pipeline\n",
    "\n",
    "\n",
    "df = pd.read_csv('../docs/ai_hub/ai_hub_data.csv', encoding='UTF-8')\n",
    "\n",
    "review_df = pd.read_csv('../docs/review_sort_by_likes.csv', encoding='UTF-8')\n",
    "\n",
    "# 'SentimentPolarity'가 0인 행 삭제\n",
    "df = df[df['SentimentPolarity'] != 0]\n",
    "\n",
    "review_df['content'] = review_df['content'].str.replace(\"[^ㄱ-ㅎㅏ-ㅣ가-힣 ]\",\"\")\n",
    "review_df = review_df.dropna(how = 'any')\n",
    "\n",
    "df['SentimentText'] = df['SentimentText'].str.replace(\"[^ㄱ-ㅎㅏ-ㅣ가-힣 ]\",\"\") # 정규 표현식 수행\n",
    "df['SentimentText'] = df['SentimentText'].str.replace('^ +', \"\") # 공백은 empty 값으로 변경\n",
    "df['SentimentText'].replace('', np.nan, inplace=True) # 공백은 Null 값으로 변경\n",
    "df = df.dropna(how='any') # Null 값 제거\n",
    "\n",
    "# 라벨링 된 데이터를 train - test data set으로 분할.\n",
    "X_train, X_test, y_train, y_test = train_test_split(df['SentimentText'], df['SentimentPolarity'], test_size=0.2, random_state=42)\n",
    "\n",
    "pipeline = Pipeline([\n",
    "    (\"tfidf_vect\", TfidfVectorizer(stop_words=\"english\", ngram_range=(1,2) ) ),\n",
    "    (\"LR\", LogisticRegression(C=10) )\n",
    "])\n",
    "\n",
    "# 학습/예측/평가\n",
    "pipeline.fit(X_train, y_train)\n",
    "\n",
    "pred = pipeline.predict(X_test)\n",
    "pred_prob = pipeline.predict_proba(X_test)[:,1]\n",
    "\n",
    "acc_lr = accuracy_score(y_test, pred)\n",
    "auc_lr = roc_auc_score(y_test, pred_prob)\n",
    "\n",
    "print(f\"예측 정확도: {acc_lr:.4f}, ROC-AUC: {auc_lr:.4f}\")"
   ],
   "metadata": {
    "collapsed": false,
    "ExecuteTime": {
     "end_time": "2023-12-12T10:19:26.256002Z",
     "start_time": "2023-12-12T10:19:16.243977300Z"
    }
   },
   "id": "91356c7b2c142f84"
  },
  {
   "cell_type": "code",
   "execution_count": 10,
   "outputs": [
    {
     "data": {
      "text/plain": "1"
     },
     "execution_count": 10,
     "metadata": {},
     "output_type": "execute_result"
    }
   ],
   "source": [
    "def predict_sentiment(sentence):\n",
    "\n",
    "    prediction = pipeline.predict([sentence])\n",
    "    return 1 if prediction == 1 else 0\n",
    "\n",
    "\n",
    "sentence = \"보습은 나쁘지 않아요\"\n",
    "predict_sentiment(sentence)"
   ],
   "metadata": {
    "collapsed": false,
    "ExecuteTime": {
     "end_time": "2023-12-12T10:23:27.629213500Z",
     "start_time": "2023-12-12T10:23:27.605898100Z"
    }
   },
   "id": "bdc0d7965832fc53"
  },
  {
   "cell_type": "code",
   "execution_count": null,
   "outputs": [],
   "source": [],
   "metadata": {
    "collapsed": false
   },
   "id": "104ac70d3e532a73"
  }
 ],
 "metadata": {
  "kernelspec": {
   "display_name": "Python 3",
   "language": "python",
   "name": "python3"
  },
  "language_info": {
   "codemirror_mode": {
    "name": "ipython",
    "version": 2
   },
   "file_extension": ".py",
   "mimetype": "text/x-python",
   "name": "python",
   "nbconvert_exporter": "python",
   "pygments_lexer": "ipython2",
   "version": "2.7.6"
  }
 },
 "nbformat": 4,
 "nbformat_minor": 5
}
