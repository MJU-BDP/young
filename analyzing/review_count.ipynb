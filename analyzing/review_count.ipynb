{
 "cells": [
  {
   "cell_type": "code",
   "execution_count": 2,
   "metadata": {},
   "outputs": [
    {
     "name": "stdout",
     "output_type": "stream",
     "text": [
      "             SentimentText  SentimentPolarity\n",
      "0               유통기한도 넉넉하고                  1\n",
      "1       구성도 많아서 선물 하기 좋네요.                  1\n",
      "2                   구성도알차고                  1\n",
      "3                촉촉하고너무좋아용                  1\n",
      "4      대용량으로 넉넉하게 사용할 수 있고                  1\n",
      "...                    ...                ...\n",
      "51509                  순하고                  1\n",
      "51510     번들거리는 게 없어 좋습니다.                  1\n",
      "51511          저렴하게 구매했네요.                  1\n",
      "51512               발림도 좋고                  1\n",
      "51513   피부가 쫀득쫀득해지는거 같습니다.                  1\n",
      "\n",
      "[51514 rows x 2 columns]\n"
     ]
    },
    {
     "data": {
      "image/png": "[encoded data removed]",
      "text/plain": [
       "<Figure size 576x432 with 1 Axes>"
      ]
     },
     "metadata": {
      "needs_background": "light"
     },
     "output_type": "display_data"
    },
    {
     "name": "stdout",
     "output_type": "stream",
     "text": [
      "47684\n"
     ]
    },
    {
     "name": "stderr",
     "output_type": "stream",
     "text": [
      "C:\\Users\\Joy\\sentiment_analytics.py:55: FutureWarning: The default value of regex will change from True to False in a future version.\n",
      "  review_df['content'] = review_df['content'].str.replace(\"[^ㄱ-ㅎㅏ-ㅣ가-힣 ]\",\"\")\n"
     ]
    },
    {
     "name": "stdout",
     "output_type": "stream",
     "text": [
      "32410\n",
      "              id                                               name  \\\n",
      "0  A000000192697  [2023어워즈/3년연속] 아누아 어성초 77 수딩 토너 350ml 어워즈 한정 기...   \n",
      "1  A000000192697  [2023어워즈/3년연속] 아누아 어성초 77 수딩 토너 350ml 어워즈 한정 기...   \n",
      "2  A000000192697  [2023어워즈/3년연속] 아누아 어성초 77 수딩 토너 350ml 어워즈 한정 기...   \n",
      "3  A000000192697  [2023어워즈/3년연속] 아누아 어성초 77 수딩 토너 350ml 어워즈 한정 기...   \n",
      "4  A000000192697  [2023어워즈/3년연속] 아누아 어성초 77 수딩 토너 350ml 어워즈 한정 기...   \n",
      "\n",
      "         date                                            content  \n",
      "0  2023.11.30  피부타입  복합성요 토너 없이는 못살아요겨울 강철 추위도 버티게 해주는 저의 최애템...  \n",
      "1  2023.11.28  다른 토너로 갈아탔다가 환절기 때 피부가 뒤집어지고 너무 안 돌아와서 다시 구매합니...  \n",
      "2  2023.11.26  전 이거 하나로 흡토 닦토 다 하고 있어요 자극없이 순하고 용량도 많아서 밤마다 화...  \n",
      "3  2023.11.19      자극없이 순하고 결 정돈하기 좋은 토너예요민감성 지성 복합성 다 두루 쓰기 좋아요  \n",
      "4  2023.11.11  이제는 제 화장대에 없는게 말이 안되는 재구매템정말이지 공병만 몇 십병 만들었을거에...  \n",
      "전처리 후 학습 데이터 수 : 47684\n",
      "훈련 데이터 수: 38147\n",
      "테스트 데이터 수: 9537\n"
     ]
    },
    {
     "name": "stderr",
     "output_type": "stream",
     "text": [
      "C:\\Users\\Joy\\sentiment_analytics.py:67: FutureWarning: The default value of regex will change from True to False in a future version.\n",
      "  df['SentimentText'] = df['SentimentText'].str.replace(\"[^ㄱ-ㅎㅏ-ㅣ가-힣 ]\",\"\") # 정규 표현식 수행\n",
      "C:\\Users\\Joy\\sentiment_analytics.py:68: FutureWarning: The default value of regex will change from True to False in a future version.\n",
      "  df['SentimentText'] = df['SentimentText'].str.replace('^ +', \"\") # 공백은 empty 값으로 변경\n",
      "C:\\Users\\Joy\\anaconda3\\lib\\site-packages\\sklearn\\linear_model\\_logistic.py:818: ConvergenceWarning: lbfgs failed to converge (status=1):\n",
      "STOP: TOTAL NO. of ITERATIONS REACHED LIMIT.\n",
      "\n",
      "Increase the number of iterations (max_iter) or scale the data as shown in:\n",
      "    https://scikit-learn.org/stable/modules/preprocessing.html\n",
      "Please also refer to the documentation for alternative solver options:\n",
      "    https://scikit-learn.org/stable/modules/linear_model.html#logistic-regression\n",
      "  extra_warning_msg=_LOGISTIC_SOLVER_CONVERGENCE_MSG,\n"
     ]
    },
    {
     "name": "stdout",
     "output_type": "stream",
     "text": [
      "예측 정확도: 0.9294, ROC-AUC: 0.9694\n"
     ]
    },
    {
     "name": "stderr",
     "output_type": "stream",
     "text": [
      "C:\\Users\\Joy\\sentiment_analytics.py:128: FutureWarning: The default value of regex will change from True to False in a future version.\n",
      "  review_df['content'] = review_df['content'].str.replace(\"[^ㄱ-ㅎㅏ-ㅣ가-힣 ]\",\"\")\n",
      "C:\\Users\\Joy\\sentiment_analytics.py:131: FutureWarning: The default value of regex will change from True to False in a future version.\n",
      "  df['SentimentText'] = df['SentimentText'].str.replace(\"[^ㄱ-ㅎㅏ-ㅣ가-힣 ]\",\"\") # 정규 표현식 수행\n",
      "C:\\Users\\Joy\\sentiment_analytics.py:132: FutureWarning: The default value of regex will change from True to False in a future version.\n",
      "  df['SentimentText'] = df['SentimentText'].str.replace('^ +', \"\") # 공백은 empty 값으로 변경\n",
      "C:\\Users\\Joy\\anaconda3\\lib\\site-packages\\sklearn\\linear_model\\_logistic.py:818: ConvergenceWarning: lbfgs failed to converge (status=1):\n",
      "STOP: TOTAL NO. of ITERATIONS REACHED LIMIT.\n",
      "\n",
      "Increase the number of iterations (max_iter) or scale the data as shown in:\n",
      "    https://scikit-learn.org/stable/modules/preprocessing.html\n",
      "Please also refer to the documentation for alternative solver options:\n",
      "    https://scikit-learn.org/stable/modules/linear_model.html#logistic-regression\n",
      "  extra_warning_msg=_LOGISTIC_SOLVER_CONVERGENCE_MSG,\n"
     ]
    },
    {
     "name": "stdout",
     "output_type": "stream",
     "text": [
      "예측 정확도: 0.9294, ROC-AUC: 0.9694\n"
     ]
    }
   ],
   "source": [
    "import kss\n",
    "from sentiment_analytics import *\n",
    "\n",
    "review = pd.read_csv('review.csv', encoding='UTF-8')\n",
    "ai_hub = pd.read_csv('ai_hub_data.csv', encoding='UTF-8')"
   ]
  },
  {
   "cell_type": "code",
   "execution_count": 12,
   "metadata": {},
   "outputs": [
    {
     "name": "stdout",
     "output_type": "stream",
     "text": [
      "0\n",
      "0\n",
      "0\n"
     ]
    }
   ],
   "source": [
    "soothing = set(['진정', '자극', '트러블', '여드름', '순하다', '효과', '좁쌀', '예민', '제거', '나다', '민감',\n",
    "                     '민감성', '피지', '올라오다', '어성초', '붉다', '티트리', '가라', '앉다' ])\n",
    "\n",
    "moisturizing = set(['보습', '건조', '건성', '수분', '흡수', '촉촉하다', '타입', '겨울', '지성', '여름',\n",
    "                         '수분감', '속건조', '복합성' '채우다' '촉촉' '수부지', ])\n",
    "skin = set(['각질', '모공', '피부결', '크다', '부드럽다', '정돈', '화장솜', '장벽', '탄력', '보호'])\n",
    "\n",
    "\n",
    "dict = {'soothing': False, 'moisturizing': False, 'skin': False}\n",
    "\n",
    "#column 추가- soothing_pos,neg / moisturizing_pos,neg / skin_pos,neg\n",
    "\n",
    "review_df = pd.read_csv('df_new_review.csv')\n",
    "\n",
    "for topic in dict:\n",
    "    review_df[\"{}_pos\".format(topic)] = [0 for i in range(len(review_df))]\n",
    "    review_df[\"{}_neg\".format(topic)] = [0 for i in range(len(review_df))]\n",
    "\n",
    "for topic in dict:\n",
    "    for i in range(len(review_df)):\n",
    "            # 디버깅\n",
    "            if i % 500 == 0:\n",
    "                print(i)\n",
    "            context = kss.split_sentences(review_df.iloc[i]['content'])\n",
    "            dict = {'soothing': False, 'moisturizing': False, 'skin': False}\n",
    "            for keyword in eval(topic):\n",
    "                for text in context:\n",
    "                    if keyword in text and not dict[topic]:\n",
    "                        dict[topic] = True\n",
    "                        if predict_sentiment(text) == 1:\n",
    "                            review_df.loc[i, \"{}_pos\".format(topic)] = 1\n",
    "                        else:\n",
    "                            review_df.loc[i, \"{}_neg\".format(topic)] = 1"
   ]
  },
  {
   "cell_type": "code",
   "execution_count": 22,
   "metadata": {
    "scrolled": false
   },
   "outputs": [
    {
     "name": "stdout",
     "output_type": "stream",
     "text": [
      "soothing accuracy: 0.5\n",
      "moisturizing accuracy: 0.75\n",
      "skin accuracy: 0.9\n"
     ]
    }
   ],
   "source": [
    "from sklearn.metrics import accuracy_score\n",
    "for topic in dict:\n",
    "    print(\"{} accuracy:\".format(topic), accuracy_score(review_df[\"{}_pos\".format(topic)], review_df[\"label_{}\".format(topic)]))\n"
   ]
  },
  {
   "cell_type": "code",
   "execution_count": null,
   "metadata": {},
   "outputs": [],
   "source": []
  },
  {
   "cell_type": "code",
   "execution_count": 14,
   "metadata": {},
   "outputs": [],
   "source": [
    "review_df[\"label_soothing\"] = [0, 0, 1, 0, 1, 1, 0, 1, 0, 0, 1, 1, 0, 0, 0, 1, 1, 1, 1, 1]\n",
    "review_df[\"label_moisturizing\"] = [0, 0, 0, 1, 1, 0, 0, 0, 0, 1, 0, 0, 0, 0, 0, 0, 0, 1, 0, 0]\n",
    "review_df[\"label_skin\"] = [0, 0, 0, 1, 1, 1, 1, 0, 0, 0, 0, 1, 0, 0, 0, 0, 0, 0, 0, 0]"
   ]
  },
  {
   "cell_type": "code",
   "execution_count": 7,
   "metadata": {},
   "outputs": [
    {
     "name": "stdout",
     "output_type": "stream",
     "text": [
      "피부에 여드름 심하게 나지 않는데요주신 화장솜에 잔뜩 제품 묻혀서얹어놨더니 ㅠㅠ 얼굴 전체 울긋불긋 올라왓어요간지럽고후기 보니 올라왓다는 사람들이 많네요전 그렇게 민감한 피부가 아닌데ㅠㅠ속상해요\n",
      "\n",
      "으흠 써보니 또 그렇게 효과가 드라마틱하지않네요절반썼는데 그 이후엔 손이 잘 안가요\n",
      "\n",
      "동봉된 화장솜을 사용하여 토너팩을 하고 싶다면 아누아 토너패드를 구매하는 것을 추천드립니다 화장솜이 생각보다 거칠어서 자극이 느껴지기 때문에 축축하게 적셔서 사용하다 보면 짜잔 있었는데 없었습니다금방 다 써버려요장점 좁쌀 직빵오돌토돌한 좁쌀 여드름에 정말 좋아요 울긋불긋한 화농성 여드름에도 좁쌀 여드름만큼은 아니지만 꽤 괜찮아요 여드름성 피부에게 강추합니다 산뜻한 사용감완전 물처럼 어성초 특이취도 거의 안 느껴지고 닦토로 한 번 닦아주면 산뜻해요 자극을 최소한으로 살살 닦아주면 좋아요단점 토너팩 사용앞서 언급한 것처럼 토너팩으로 사용하고 싶다면 토너 패드를 구매하는 걸 추천해요 토너를 사용하면 가성비가 너무 떨어져요 보습개인적으로 촉촉하다고 느껴지진 않았어요 그래서 닦토를 흡수시키자마자 바로 로션을 발라줬습니다\n",
      "\n",
      "솔직히 처음에는 순해서 마음에 들었다가 어느순간 피지가 차는 느낌이 나더라구요 그리고 이게 물제형과 무향이라서 그냥 토너라고 생각했는데 은근 유분이 느껴지는 건 저 뿐인가요 건성 분들에게는 추천하는데 오히려 지성피지가 차는 좁쌀 여드름이 있으신 분들에게는 오히려 유분과 피지가 생길 수도 있을 것 같아요 저는 매일 토너로 쓰기 보다는 바하 토너 쓰다가 피부가 좀 정상적으로 돌아왔을 때나 메이크업 전 각질 제거로 화장솜에 묻혀 닦을 때만 사용하고 있습니다 저처럼 좁쌀 피지가 많으신 분들에게는 추천하지 않습니다 제품 자체는 순합니다\n",
      "\n",
      "진짜 이거는 신이 제게 내리신거 같아요 맨날 써야할거 같은 ㅎㅎ 그리고 이걸 거의 맨날 세일 할때마다 사거든요 일단 피부가 뒤집힐때마다 많이 효과를 본 제품이거든요 진짜 마스크팩 쓸때도 이거 토너는 맨날 마스크팩에 적셔놀정도로 넘 좋아요 어느계절 사계절 내내이지만 여름에는 살짝 좀 넵 여름에도 좋으긴한데 다른 계절에 비하면 효과력은 좀 떨어지는거 같아요 피부타입은 지성과 예민한 피부에 적극추천 드리구요 이거는 좁쌀 뿌시고 예민한 피부를 진정시켜주는 역할이예요 그리고 저는 솔직히 한번 사용했ㅇ을때도 크게 효과를 봤어요 근데 하루 사용했는데 효과를 봤으면 일주일정도 사용하면 겁나 효과 개쩔어요 그리고 여기 화장솜 ㄹㅇ 개좋아요 완전 부드럽고 아누아 화장솜 사보고 싶었는데 여기서 이런 기회로 사다니 넘 좋아용 ㅎ\n",
      "\n",
      "아누아 토너원래 브링그린 토너 쓰고있었는데 스킨케어 제품 한번 바꿔보는것도 괜찮을거 같다고 해서 지인한테 이것저것 물어보고 구매했습니당 아누아 토너랑 몇가지 더 추천해줬는데 매장에서 테스터 해보고 이걸로 구매 결정 세일 하자마자 달려갔어용 솜 같이 들어있어서 좋아요저녁에 씻고 써봤는데 향은 안나는거 같구요 여태 쓰던 토너랑 똑같이 엄청 묽은제형입니당 닦토로 쓰려구여 굿 용량도 적지 않은 용량이라 꽤 오래 쓸거 같아용 닦토로 쓰면 오래 쓸거 같습니당 스킨케어 제품 다 바꿨는데 효과를 기대하며꾸준하게 잘 써보겠어오 잘 써보도록 하겠습니다 제형이 가벼워서 저한테 쓰기 더 좋은거 같아요 무거운거 쓰면 바로 유분이 올라왔던 과거의 제 피부 피부에게 사과 합니다ㅜ 어성초라인도 좋아해서 잘 쓸거 같습니다\n",
      "\n",
      "어성초 좋다해서 구매해서 사용했었는데 처음엔 트러블이 그냥 올라오더라고요ㄷㄷ 한참 안쓰다가 메디힐 패드가 수분이 잘 날아가더라고요 거기다가 짜서 각질제거용 닦토로 사용했습니다 다행이 그렇게 쓰니깐 더 뭐가 안올라 오더라고요 팩처럼 쓰기보단 닦토로 쓰는게 훨씬 더 좋더라고용\n",
      "\n",
      "안녕하세요 트러블 때문에 스트레스 받는 와중에어성초토너에 알게되고  일에 받고 일동안 스킨팩 이나 찹토 바르면서 좋아지고 있습니다꾸준히 바라겠습니다이제품만 써야할듯 합니다감사합니다\n",
      "\n",
      "요즘 피부 난리나서진정되는거 사려구 알아보다가아누아 어성초가 젤 괜찮기도하고오특해서 얼른 주문했어요지금 리뷰쓰면서 스킨팩하고있는데진정에 효과있으면 재구매하려구요\n",
      "\n",
      "건성여드름성 피부입니다 수분이 부족하면 좁쌀여드름이 올라옵니다수분감있는 토너가 필요하여 선택한 제품입니다 신기하게 바르자마자 속건조를 잡아준다는 느낌이 납니다 아침에 세안하고 바르는데 아주 촉촉합니다 이 제품도 차 구매각이네요\n",
      "\n",
      "매장에서 직원 분 추천으로 구매했는데 괜찮더라구요저는 좁쌀이 드물게 생겼다가 금방 없어지는 피부인데 진정 효과 많이 봤어요완전 물 같은 제형이라 수분감은 크게 느껴지진 않아서 다른 기초를 더 탄탄하게 발라줘야 할 것 같습니당\n",
      "\n",
      "제가 민감성 피부라 시카라인 써본 제품이 많은데 일단 이건 보습라인은 아니라 막 피부속까지 수분꽉꽉 채워지는 그런 느낌은 아니구 진정효과 있는 토너입니다 피부에 좀 안맞는 화장품쓰거나 해서 좁쌀올라오거나 화끈거릴때 피부컨디션 별로일때 화장솜에 듬뿍 묻혀서 토너팩해주는데 진정효과좋아요 붉은기도 잘 잡아주고 번들거리거나 끈적거리지않고 진짜 깔끔하게 마무리됩니당 제형은 완전 그냥 물같아요 근데 다른분 리뷰처럼 좀 문지르거나 하면 거품이 나는게 ㅋㅋㅋ좀 의문이긴한데ㅋㅋㅋㅋ직원분 추천으로 샀는데 잘썼던것같아요\n",
      "\n",
      "라벤더가 들어가잇어서 그런가 생각보다 막 순하진않앗던\n",
      "\n",
      "냄새가 안좋긴하지만 여드름 피부에 좋다고 해서 사용하는 중입니다\n",
      "\n",
      "처음엔 좋았는데 쓸수록 흡수 안돼고 끈적거리는ㅜㅜ 첨엔 엄청 좋았는데 ㅜ 아쉽 닦을때 하얗게 거품나오공 살짝 끈적거려요 겨울에 써야될듯ㅜ\n",
      "\n",
      "자극없이 순해요제가 쓰고 좋아서남자칭구한테도 사쥬ㅓㅆ는데두통째 사주고잇습니다뿌듯해요\n",
      "\n",
      "하나도 자극없고 화장솜에 묻혀서 바르니까 좋아요 화장솜에 묻히고 여드름 부위에 분 얹어놓으니까 좋아요 재구매 의사 있어요 \n",
      "\n",
      "처음에 한통 쓰다가 다써가서 통 더 구매했습니다ㅎㅎ 건성인데다 홍조가 심해서 늘 진정보습 라인으로 찾는데 로벡틴 시카 토너가 트러블이나 진정에 효과가 괜찮대서 샀었어요 저번에 로벡틴 앰플을 써본 적 이 있는데 그때는 효과를 크게 못봐서 토너도 많이 기대를 안했는데 이건 진짜 저한테 완전 잘맞는 것 같습니다ㅠㅠ 피부가 탱탱해지고 엄청 산뜻해지는 기분에다가 홍조도 조금 가라앉았어요 여름이라 냉장고에 넣어두고 쓰는데 완전 쿨링감 ㄷㅐ박입니다 \n",
      "\n",
      "잘사용하고 있습니다자극도 없고 좋네요사용하고 재구매하겠습니다\n",
      "\n",
      "로벡틴 제품 토너로 처음써보는데 좋아용 생각보다 빨리 쓸거같긴한데 디자인도 맘에들고 순해요\n",
      "\n"
     ]
    }
   ],
   "source": [
    "for i in review_df.content:\n",
    "    print(i)\n",
    "    print()\n"
   ]
  },
  {
   "cell_type": "code",
   "execution_count": 5,
   "metadata": {},
   "outputs": [],
   "source": [
    "review_df.to_csv('test1.csv',index=False)"
   ]
  },
  {
   "cell_type": "code",
   "execution_count": 6,
   "metadata": {},
   "outputs": [],
   "source": [
    "review = pd.read_csv('test1.csv', encoding='UTF-8')\n"
   ]
  },
  {
   "cell_type": "code",
   "execution_count": 1,
   "metadata": {},
   "outputs": [
    {
     "ename": "NameError",
     "evalue": "name 'pd' is not defined",
     "output_type": "error",
     "traceback": [
      "\u001b[1;31m---------------------------------------------------------------------------\u001b[0m",
      "\u001b[1;31mNameError\u001b[0m                                 Traceback (most recent call last)",
      "\u001b[1;32m<ipython-input-1-87315a84f681>\u001b[0m in \u001b[0;36m<module>\u001b[1;34m\u001b[0m\n\u001b[1;32m----> 1\u001b[1;33m \u001b[0mreview\u001b[0m \u001b[1;33m=\u001b[0m \u001b[0mpd\u001b[0m\u001b[1;33m.\u001b[0m\u001b[0mread_csv\u001b[0m\u001b[1;33m(\u001b[0m\u001b[1;34m'test1.csv'\u001b[0m\u001b[1;33m,\u001b[0m \u001b[0mencoding\u001b[0m\u001b[1;33m=\u001b[0m\u001b[1;34m'UTF-8'\u001b[0m\u001b[1;33m)\u001b[0m\u001b[1;33m\u001b[0m\u001b[1;33m\u001b[0m\u001b[0m\n\u001b[0m\u001b[0;32m      2\u001b[0m \u001b[0mreview\u001b[0m \u001b[1;33m=\u001b[0m \u001b[0mreview\u001b[0m\u001b[1;33m[\u001b[0m\u001b[0mreview\u001b[0m\u001b[1;33m[\u001b[0m\u001b[1;34m'moisturizing_pos'\u001b[0m\u001b[1;33m]\u001b[0m \u001b[1;33m==\u001b[0m \u001b[1;36m1.0\u001b[0m\u001b[1;33m]\u001b[0m\u001b[1;33m\u001b[0m\u001b[1;33m\u001b[0m\u001b[0m\n\u001b[0;32m      3\u001b[0m \u001b[0mpos\u001b[0m \u001b[1;33m=\u001b[0m \u001b[0mreview\u001b[0m\u001b[1;33m.\u001b[0m\u001b[0mgroupby\u001b[0m\u001b[1;33m(\u001b[0m\u001b[1;33m[\u001b[0m\u001b[1;34m'name'\u001b[0m\u001b[1;33m]\u001b[0m\u001b[1;33m)\u001b[0m\u001b[1;33m.\u001b[0m\u001b[0mcount\u001b[0m\u001b[1;33m(\u001b[0m\u001b[1;33m)\u001b[0m\u001b[1;33m\u001b[0m\u001b[1;33m\u001b[0m\u001b[0m\n\u001b[0;32m      4\u001b[0m \u001b[0mprint\u001b[0m\u001b[1;33m(\u001b[0m\u001b[0mpos\u001b[0m\u001b[1;33m.\u001b[0m\u001b[0mcolumns\u001b[0m\u001b[1;33m)\u001b[0m\u001b[1;33m\u001b[0m\u001b[1;33m\u001b[0m\u001b[0m\n\u001b[0;32m      5\u001b[0m \u001b[0mpos\u001b[0m\u001b[1;33m\u001b[0m\u001b[1;33m\u001b[0m\u001b[0m\n",
      "\u001b[1;31mNameError\u001b[0m: name 'pd' is not defined"
     ]
    }
   ],
   "source": [
    "review = pd.read_csv('test1.csv', encoding='UTF-8')\n",
    "review = review[review['moisturizing_pos'] == 1.0]\n",
    "pos = review.groupby(['name']).count()\n",
    "print(pos.columns)\n",
    "pos\n",
    "pos['name'] = pos.index.to_list()\n",
    "pos['moisturizing_pos'] = round(pos['moisturizing_pos'])\n",
    "\n",
    "print(sum(pos['moisturizing_pos']/pos['moisturizing_pos'].count()))\n",
    "pos[['name', 'moisturizing_pos']]\n"
   ]
  },
  {
   "cell_type": "code",
   "execution_count": 33,
   "metadata": {},
   "outputs": [
    {
     "name": "stdout",
     "output_type": "stream",
     "text": [
      "Index(['id', 'date', 'content', 'moisturizing_pos', 'moisturizing_neg'], dtype='object')\n",
      "21.40972222222222\n",
      "9.69708804690904\n"
     ]
    },
    {
     "data": {
      "text/html": [
       "<div>\n",
       "<style scoped>\n",
       "    .dataframe tbody tr th:only-of-type {\n",
       "        vertical-align: middle;\n",
       "    }\n",
       "\n",
       "    .dataframe tbody tr th {\n",
       "        vertical-align: top;\n",
       "    }\n",
       "\n",
       "    .dataframe thead th {\n",
       "        text-align: right;\n",
       "    }\n",
       "</style>\n",
       "<table border=\"1\" class=\"dataframe\">\n",
       "  <thead>\n",
       "    <tr style=\"text-align: right;\">\n",
       "      <th></th>\n",
       "      <th>name</th>\n",
       "      <th>moisturizing_neg</th>\n",
       "    </tr>\n",
       "    <tr>\n",
       "      <th>name</th>\n",
       "      <th></th>\n",
       "      <th></th>\n",
       "    </tr>\n",
       "  </thead>\n",
       "  <tbody>\n",
       "    <tr>\n",
       "      <th>[1+1 기획] 차앤박(CNP) 아쿠아 수딩 토너 1+1 기획</th>\n",
       "      <td>[1+1 기획] 차앤박(CNP) 아쿠아 수딩 토너 1+1 기획</td>\n",
       "      <td>20.0</td>\n",
       "    </tr>\n",
       "    <tr>\n",
       "      <th>[1+1 모공케어] 유세린 더머토클린 클래리파잉 토너 더블기획 (200ml+200ml)</th>\n",
       "      <td>[1+1 모공케어] 유세린 더머토클린 클래리파잉 토너 더블기획 (200ml+200ml)</td>\n",
       "      <td>4.0</td>\n",
       "    </tr>\n",
       "    <tr>\n",
       "      <th>[1+1][구름토너] 마몽드 블루 아줄렌 클라우드 토너 150ml 기획 (+150ml 리필 추가 증정)</th>\n",
       "      <td>[1+1][구름토너] 마몽드 블루 아줄렌 클라우드 토너 150ml 기획 (+150m...</td>\n",
       "      <td>32.0</td>\n",
       "    </tr>\n",
       "    <tr>\n",
       "      <th>[1+1기획] 구달 맑은 어성초 진정 수분 토너 300ml 기획(+300ml 리필)</th>\n",
       "      <td>[1+1기획] 구달 맑은 어성초 진정 수분 토너 300ml 기획(+300ml 리필)</td>\n",
       "      <td>20.0</td>\n",
       "    </tr>\n",
       "    <tr>\n",
       "      <th>[2023어워즈/3년연속] 아누아 어성초 77 수딩 토너 350ml 어워즈 한정 기획 (본품+리필팩+진정마스크1매)</th>\n",
       "      <td>[2023어워즈/3년연속] 아누아 어성초 77 수딩 토너 350ml 어워즈 한정 기...</td>\n",
       "      <td>14.0</td>\n",
       "    </tr>\n",
       "    <tr>\n",
       "      <th>...</th>\n",
       "      <td>...</td>\n",
       "      <td>...</td>\n",
       "    </tr>\n",
       "    <tr>\n",
       "      <th>피지오겔 레드수딩 시카밸런스 토너 200ml</th>\n",
       "      <td>피지오겔 레드수딩 시카밸런스 토너 200ml</td>\n",
       "      <td>22.0</td>\n",
       "    </tr>\n",
       "    <tr>\n",
       "      <th>피캄 베리어 사이클 락토P 토너 200ml</th>\n",
       "      <td>피캄 베리어 사이클 락토P 토너 200ml</td>\n",
       "      <td>16.0</td>\n",
       "    </tr>\n",
       "    <tr>\n",
       "      <th>피캄 베리어 사이클 락토P 토너200ml 기획(+화장솜 증정)</th>\n",
       "      <td>피캄 베리어 사이클 락토P 토너200ml 기획(+화장솜 증정)</td>\n",
       "      <td>10.0</td>\n",
       "    </tr>\n",
       "    <tr>\n",
       "      <th>하다라보 고쿠쥰 로션170ml</th>\n",
       "      <td>하다라보 고쿠쥰 로션170ml</td>\n",
       "      <td>22.0</td>\n",
       "    </tr>\n",
       "    <tr>\n",
       "      <th>헤이네이처 어성초 스킨 토너 150ml 기획(+카밍 토너패드 5매)</th>\n",
       "      <td>헤이네이처 어성초 스킨 토너 150ml 기획(+카밍 토너패드 5매)</td>\n",
       "      <td>34.0</td>\n",
       "    </tr>\n",
       "  </tbody>\n",
       "</table>\n",
       "<p>144 rows × 2 columns</p>\n",
       "</div>"
      ],
      "text/plain": [
       "                                                                                                 name  \\\n",
       "name                                                                                                    \n",
       "[1+1 기획] 차앤박(CNP) 아쿠아 수딩 토너 1+1 기획                                 [1+1 기획] 차앤박(CNP) 아쿠아 수딩 토너 1+1 기획   \n",
       "[1+1 모공케어] 유세린 더머토클린 클래리파잉 토너 더블기획 (200ml+200ml)     [1+1 모공케어] 유세린 더머토클린 클래리파잉 토너 더블기획 (200ml+200ml)   \n",
       "[1+1][구름토너] 마몽드 블루 아줄렌 클라우드 토너 150ml 기획 (+150ml...  [1+1][구름토너] 마몽드 블루 아줄렌 클라우드 토너 150ml 기획 (+150m...   \n",
       "[1+1기획] 구달 맑은 어성초 진정 수분 토너 300ml 기획(+300ml 리필)         [1+1기획] 구달 맑은 어성초 진정 수분 토너 300ml 기획(+300ml 리필)   \n",
       "[2023어워즈/3년연속] 아누아 어성초 77 수딩 토너 350ml 어워즈 한정 기획...  [2023어워즈/3년연속] 아누아 어성초 77 수딩 토너 350ml 어워즈 한정 기...   \n",
       "...                                                                                               ...   \n",
       "피지오겔 레드수딩 시카밸런스 토너 200ml                                                     피지오겔 레드수딩 시카밸런스 토너 200ml   \n",
       "피캄 베리어 사이클 락토P 토너 200ml                                                       피캄 베리어 사이클 락토P 토너 200ml   \n",
       "피캄 베리어 사이클 락토P 토너200ml 기획(+화장솜 증정)                                 피캄 베리어 사이클 락토P 토너200ml 기획(+화장솜 증정)   \n",
       "하다라보 고쿠쥰 로션170ml                                                                     하다라보 고쿠쥰 로션170ml   \n",
       "헤이네이처 어성초 스킨 토너 150ml 기획(+카밍 토너패드 5매)                           헤이네이처 어성초 스킨 토너 150ml 기획(+카밍 토너패드 5매)   \n",
       "\n",
       "                                                    moisturizing_neg  \n",
       "name                                                                  \n",
       "[1+1 기획] 차앤박(CNP) 아쿠아 수딩 토너 1+1 기획                              20.0  \n",
       "[1+1 모공케어] 유세린 더머토클린 클래리파잉 토너 더블기획 (200ml+200ml)                 4.0  \n",
       "[1+1][구름토너] 마몽드 블루 아줄렌 클라우드 토너 150ml 기획 (+150ml...              32.0  \n",
       "[1+1기획] 구달 맑은 어성초 진정 수분 토너 300ml 기획(+300ml 리필)                  20.0  \n",
       "[2023어워즈/3년연속] 아누아 어성초 77 수딩 토너 350ml 어워즈 한정 기획...              14.0  \n",
       "...                                                              ...  \n",
       "피지오겔 레드수딩 시카밸런스 토너 200ml                                        22.0  \n",
       "피캄 베리어 사이클 락토P 토너 200ml                                         16.0  \n",
       "피캄 베리어 사이클 락토P 토너200ml 기획(+화장솜 증정)                              10.0  \n",
       "하다라보 고쿠쥰 로션170ml                                                22.0  \n",
       "헤이네이처 어성초 스킨 토너 150ml 기획(+카밍 토너패드 5매)                           34.0  \n",
       "\n",
       "[144 rows x 2 columns]"
      ]
     },
     "execution_count": 33,
     "metadata": {},
     "output_type": "execute_result"
    }
   ],
   "source": [
    "import numpy as np\n",
    "review = pd.read_csv('test1.csv', encoding='UTF-8')\n",
    "review = review[review['moisturizing_neg'] == 1.0]\n",
    "neg = review.groupby(['name']).count()\n",
    "print(neg.columns)\n",
    "neg\n",
    "neg['name'] = neg.index.to_list()\n",
    "neg['moisturizing_neg'] = round(neg['moisturizing_neg']*1.5)\n",
    "neg\n",
    "mean_neg = np.mean(neg['moisturizing_neg'])\n",
    "print(mean_neg)\n",
    "std_neg = np.std(neg['moisturizing_neg'])\n",
    "print(std_neg)\n",
    "neg[['name', 'moisturizing_neg']]\n"
   ]
  },
  {
   "cell_type": "code",
   "execution_count": 42,
   "metadata": {},
   "outputs": [
    {
     "ename": "ValueError",
     "evalue": "x and y must have same first dimension, but have shapes (144,) and (1,)",
     "output_type": "error",
     "traceback": [
      "\u001b[1;31m---------------------------------------------------------------------------\u001b[0m",
      "\u001b[1;31mValueError\u001b[0m                                Traceback (most recent call last)",
      "\u001b[1;32m<ipython-input-42-3d8991fd4405>\u001b[0m in \u001b[0;36m<module>\u001b[1;34m\u001b[0m\n\u001b[0;32m      6\u001b[0m \u001b[0mrv\u001b[0m \u001b[1;33m=\u001b[0m \u001b[0mnorm\u001b[0m\u001b[1;33m(\u001b[0m\u001b[0mmean_neg\u001b[0m\u001b[1;33m,\u001b[0m \u001b[0mstd_neg\u001b[0m\u001b[1;33m)\u001b[0m\u001b[1;33m\u001b[0m\u001b[1;33m\u001b[0m\u001b[0m\n\u001b[0;32m      7\u001b[0m \u001b[0my\u001b[0m \u001b[1;33m=\u001b[0m \u001b[0mrv\u001b[0m\u001b[1;33m.\u001b[0m\u001b[0mpdf\u001b[0m\u001b[1;33m(\u001b[0m\u001b[1;36m24\u001b[0m\u001b[1;33m)\u001b[0m\u001b[1;33m\u001b[0m\u001b[1;33m\u001b[0m\u001b[0m\n\u001b[1;32m----> 8\u001b[1;33m \u001b[0mplt\u001b[0m\u001b[1;33m.\u001b[0m\u001b[0mplot\u001b[0m\u001b[1;33m(\u001b[0m\u001b[0mneg\u001b[0m\u001b[1;33m[\u001b[0m\u001b[1;34m'moisturizing_neg'\u001b[0m\u001b[1;33m]\u001b[0m\u001b[1;33m,\u001b[0m \u001b[0my\u001b[0m\u001b[1;33m)\u001b[0m\u001b[1;33m\u001b[0m\u001b[1;33m\u001b[0m\u001b[0m\n\u001b[0m\u001b[0;32m      9\u001b[0m \u001b[0mplt\u001b[0m\u001b[1;33m.\u001b[0m\u001b[0mshow\u001b[0m\u001b[1;33m(\u001b[0m\u001b[1;33m)\u001b[0m\u001b[1;33m\u001b[0m\u001b[1;33m\u001b[0m\u001b[0m\n",
      "\u001b[1;32m~\\anaconda3\\lib\\site-packages\\matplotlib\\pyplot.py\u001b[0m in \u001b[0;36mplot\u001b[1;34m(scalex, scaley, data, *args, **kwargs)\u001b[0m\n\u001b[0;32m   2794\u001b[0m     return gca().plot(\n\u001b[0;32m   2795\u001b[0m         *args, scalex=scalex, scaley=scaley, **({\"data\": data} if data\n\u001b[1;32m-> 2796\u001b[1;33m         is not None else {}), **kwargs)\n\u001b[0m\u001b[0;32m   2797\u001b[0m \u001b[1;33m\u001b[0m\u001b[0m\n\u001b[0;32m   2798\u001b[0m \u001b[1;33m\u001b[0m\u001b[0m\n",
      "\u001b[1;32m~\\anaconda3\\lib\\site-packages\\matplotlib\\axes\\_axes.py\u001b[0m in \u001b[0;36mplot\u001b[1;34m(self, scalex, scaley, data, *args, **kwargs)\u001b[0m\n\u001b[0;32m   1663\u001b[0m         \"\"\"\n\u001b[0;32m   1664\u001b[0m         \u001b[0mkwargs\u001b[0m \u001b[1;33m=\u001b[0m \u001b[0mcbook\u001b[0m\u001b[1;33m.\u001b[0m\u001b[0mnormalize_kwargs\u001b[0m\u001b[1;33m(\u001b[0m\u001b[0mkwargs\u001b[0m\u001b[1;33m,\u001b[0m \u001b[0mmlines\u001b[0m\u001b[1;33m.\u001b[0m\u001b[0mLine2D\u001b[0m\u001b[1;33m.\u001b[0m\u001b[0m_alias_map\u001b[0m\u001b[1;33m)\u001b[0m\u001b[1;33m\u001b[0m\u001b[1;33m\u001b[0m\u001b[0m\n\u001b[1;32m-> 1665\u001b[1;33m         \u001b[0mlines\u001b[0m \u001b[1;33m=\u001b[0m \u001b[1;33m[\u001b[0m\u001b[1;33m*\u001b[0m\u001b[0mself\u001b[0m\u001b[1;33m.\u001b[0m\u001b[0m_get_lines\u001b[0m\u001b[1;33m(\u001b[0m\u001b[1;33m*\u001b[0m\u001b[0margs\u001b[0m\u001b[1;33m,\u001b[0m \u001b[0mdata\u001b[0m\u001b[1;33m=\u001b[0m\u001b[0mdata\u001b[0m\u001b[1;33m,\u001b[0m \u001b[1;33m**\u001b[0m\u001b[0mkwargs\u001b[0m\u001b[1;33m)\u001b[0m\u001b[1;33m]\u001b[0m\u001b[1;33m\u001b[0m\u001b[1;33m\u001b[0m\u001b[0m\n\u001b[0m\u001b[0;32m   1666\u001b[0m         \u001b[1;32mfor\u001b[0m \u001b[0mline\u001b[0m \u001b[1;32min\u001b[0m \u001b[0mlines\u001b[0m\u001b[1;33m:\u001b[0m\u001b[1;33m\u001b[0m\u001b[1;33m\u001b[0m\u001b[0m\n\u001b[0;32m   1667\u001b[0m             \u001b[0mself\u001b[0m\u001b[1;33m.\u001b[0m\u001b[0madd_line\u001b[0m\u001b[1;33m(\u001b[0m\u001b[0mline\u001b[0m\u001b[1;33m)\u001b[0m\u001b[1;33m\u001b[0m\u001b[1;33m\u001b[0m\u001b[0m\n",
      "\u001b[1;32m~\\anaconda3\\lib\\site-packages\\matplotlib\\axes\\_base.py\u001b[0m in \u001b[0;36m__call__\u001b[1;34m(self, *args, **kwargs)\u001b[0m\n\u001b[0;32m    223\u001b[0m                 \u001b[0mthis\u001b[0m \u001b[1;33m+=\u001b[0m \u001b[0margs\u001b[0m\u001b[1;33m[\u001b[0m\u001b[1;36m0\u001b[0m\u001b[1;33m]\u001b[0m\u001b[1;33m,\u001b[0m\u001b[1;33m\u001b[0m\u001b[1;33m\u001b[0m\u001b[0m\n\u001b[0;32m    224\u001b[0m                 \u001b[0margs\u001b[0m \u001b[1;33m=\u001b[0m \u001b[0margs\u001b[0m\u001b[1;33m[\u001b[0m\u001b[1;36m1\u001b[0m\u001b[1;33m:\u001b[0m\u001b[1;33m]\u001b[0m\u001b[1;33m\u001b[0m\u001b[1;33m\u001b[0m\u001b[0m\n\u001b[1;32m--> 225\u001b[1;33m             \u001b[1;32myield\u001b[0m \u001b[1;32mfrom\u001b[0m \u001b[0mself\u001b[0m\u001b[1;33m.\u001b[0m\u001b[0m_plot_args\u001b[0m\u001b[1;33m(\u001b[0m\u001b[0mthis\u001b[0m\u001b[1;33m,\u001b[0m \u001b[0mkwargs\u001b[0m\u001b[1;33m)\u001b[0m\u001b[1;33m\u001b[0m\u001b[1;33m\u001b[0m\u001b[0m\n\u001b[0m\u001b[0;32m    226\u001b[0m \u001b[1;33m\u001b[0m\u001b[0m\n\u001b[0;32m    227\u001b[0m     \u001b[1;32mdef\u001b[0m \u001b[0mget_next_color\u001b[0m\u001b[1;33m(\u001b[0m\u001b[0mself\u001b[0m\u001b[1;33m)\u001b[0m\u001b[1;33m:\u001b[0m\u001b[1;33m\u001b[0m\u001b[1;33m\u001b[0m\u001b[0m\n",
      "\u001b[1;32m~\\anaconda3\\lib\\site-packages\\matplotlib\\axes\\_base.py\u001b[0m in \u001b[0;36m_plot_args\u001b[1;34m(self, tup, kwargs)\u001b[0m\n\u001b[0;32m    389\u001b[0m             \u001b[0mx\u001b[0m\u001b[1;33m,\u001b[0m \u001b[0my\u001b[0m \u001b[1;33m=\u001b[0m \u001b[0mindex_of\u001b[0m\u001b[1;33m(\u001b[0m\u001b[0mtup\u001b[0m\u001b[1;33m[\u001b[0m\u001b[1;33m-\u001b[0m\u001b[1;36m1\u001b[0m\u001b[1;33m]\u001b[0m\u001b[1;33m)\u001b[0m\u001b[1;33m\u001b[0m\u001b[1;33m\u001b[0m\u001b[0m\n\u001b[0;32m    390\u001b[0m \u001b[1;33m\u001b[0m\u001b[0m\n\u001b[1;32m--> 391\u001b[1;33m         \u001b[0mx\u001b[0m\u001b[1;33m,\u001b[0m \u001b[0my\u001b[0m \u001b[1;33m=\u001b[0m \u001b[0mself\u001b[0m\u001b[1;33m.\u001b[0m\u001b[0m_xy_from_xy\u001b[0m\u001b[1;33m(\u001b[0m\u001b[0mx\u001b[0m\u001b[1;33m,\u001b[0m \u001b[0my\u001b[0m\u001b[1;33m)\u001b[0m\u001b[1;33m\u001b[0m\u001b[1;33m\u001b[0m\u001b[0m\n\u001b[0m\u001b[0;32m    392\u001b[0m \u001b[1;33m\u001b[0m\u001b[0m\n\u001b[0;32m    393\u001b[0m         \u001b[1;32mif\u001b[0m \u001b[0mself\u001b[0m\u001b[1;33m.\u001b[0m\u001b[0mcommand\u001b[0m \u001b[1;33m==\u001b[0m \u001b[1;34m'plot'\u001b[0m\u001b[1;33m:\u001b[0m\u001b[1;33m\u001b[0m\u001b[1;33m\u001b[0m\u001b[0m\n",
      "\u001b[1;32m~\\anaconda3\\lib\\site-packages\\matplotlib\\axes\\_base.py\u001b[0m in \u001b[0;36m_xy_from_xy\u001b[1;34m(self, x, y)\u001b[0m\n\u001b[0;32m    268\u001b[0m         \u001b[1;32mif\u001b[0m \u001b[0mx\u001b[0m\u001b[1;33m.\u001b[0m\u001b[0mshape\u001b[0m\u001b[1;33m[\u001b[0m\u001b[1;36m0\u001b[0m\u001b[1;33m]\u001b[0m \u001b[1;33m!=\u001b[0m \u001b[0my\u001b[0m\u001b[1;33m.\u001b[0m\u001b[0mshape\u001b[0m\u001b[1;33m[\u001b[0m\u001b[1;36m0\u001b[0m\u001b[1;33m]\u001b[0m\u001b[1;33m:\u001b[0m\u001b[1;33m\u001b[0m\u001b[1;33m\u001b[0m\u001b[0m\n\u001b[0;32m    269\u001b[0m             raise ValueError(\"x and y must have same first dimension, but \"\n\u001b[1;32m--> 270\u001b[1;33m                              \"have shapes {} and {}\".format(x.shape, y.shape))\n\u001b[0m\u001b[0;32m    271\u001b[0m         \u001b[1;32mif\u001b[0m \u001b[0mx\u001b[0m\u001b[1;33m.\u001b[0m\u001b[0mndim\u001b[0m \u001b[1;33m>\u001b[0m \u001b[1;36m2\u001b[0m \u001b[1;32mor\u001b[0m \u001b[0my\u001b[0m\u001b[1;33m.\u001b[0m\u001b[0mndim\u001b[0m \u001b[1;33m>\u001b[0m \u001b[1;36m2\u001b[0m\u001b[1;33m:\u001b[0m\u001b[1;33m\u001b[0m\u001b[1;33m\u001b[0m\u001b[0m\n\u001b[0;32m    272\u001b[0m             raise ValueError(\"x and y can be no greater than 2-D, but have \"\n",
      "\u001b[1;31mValueError\u001b[0m: x and y must have same first dimension, but have shapes (144,) and (1,)"
     ]
    },
    {
     "data": {
      "image/png": "[encoded data removed]",
      "text/plain": [
       "<Figure size 432x288 with 1 Axes>"
      ]
     },
     "metadata": {
      "needs_background": "light"
     },
     "output_type": "display_data"
    }
   ],
   "source": [
    "import numpy as np\n",
    "import matplotlib.pyplot as plt\n",
    "from scipy.stats import norm\n",
    "\n",
    "# plt.legend(f'N({mean_neg},{std_neg})')\n",
    "rv = norm(mean_neg, std_neg)\n",
    "y = rv.pdf(neg['moisturizing_neg'])\n",
    "plt.plot(neg['moisturizing_neg'], y)\n",
    "plt.show()"
   ]
  },
  {
   "cell_type": "code",
   "execution_count": null,
   "metadata": {},
   "outputs": [],
   "source": []
  }
 ],
 "metadata": {
  "kernelspec": {
   "display_name": "Python 3",
   "language": "python",
   "name": "python3"
  },
  "language_info": {
   "codemirror_mode": {
    "name": "ipython",
    "version": 3
   },
   "file_extension": ".py",
   "mimetype": "text/x-python",
   "name": "python",
   "nbconvert_exporter": "python",
   "pygments_lexer": "ipython3",
   "version": "3.7.6"
  }
 },
 "nbformat": 4,
 "nbformat_minor": 4
}
