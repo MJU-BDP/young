{
 "cells": [
  {
   "cell_type": "code",
   "execution_count": 6,
   "id": "initial_id",
   "metadata": {
    "collapsed": true,
    "ExecuteTime": {
     "end_time": "2023-12-09T07:42:40.187085400Z",
     "start_time": "2023-12-09T07:42:39.895238200Z"
    }
   },
   "outputs": [],
   "source": [
    "# AI hub의 감성 분석 데이터 크롤링.\n",
    "\n",
    "import json\n",
    "import pandas as pd\n",
    "import os\n",
    "\n",
    "directory = '../docs/ai_hub/skin_data'\n",
    "\n",
    "# 모든 JSON 저장할 리스트\n",
    "all_data = []\n",
    "\n",
    "for filename in os.listdir(directory):\n",
    "    if filename.endswith('.json'):\n",
    "        filepath = os.path.join(directory, filename)\n",
    "        with open(filepath, 'r', encoding='utf-8') as file:\n",
    "            data = json.load(file)\n",
    "            all_data.extend(data)\n",
    "            \n",
    "# DataFrame으로 변환\n",
    "df = pd.DataFrame(all_data)\n",
    "\n",
    "# 결측치 제거\n",
    "df.dropna(subset=['GeneralPolarity'], inplace=True)\n",
    "\n",
    "# 'GeneralPolarity(긍정1/중립0/부정-1)'와 'RawText' 컬럼만 남기고 나머지 삭제\n",
    "df = df[['GeneralPolarity', 'RawText']]\n",
    "\n",
    "df.to_csv('ai_hub.csv', index=False, encoding='utf-8-sig')"
   ]
  },
  {
   "cell_type": "code",
   "execution_count": 5,
   "outputs": [
    {
     "name": "stdout",
     "output_type": "stream",
     "text": [
      "             SentimentText SentimentPolarity\n",
      "0               유통기한도 넉넉하고                 1\n",
      "1       구성도 많아서 선물 하기 좋네요.                 1\n",
      "2                   구성도알차고                 1\n",
      "3                촉촉하고너무좋아용                 1\n",
      "4      대용량으로 넉넉하게 사용할 수 있고                 1\n",
      "...                    ...               ...\n",
      "51509                  순하고                 1\n",
      "51510     번들거리는 게 없어 좋습니다.                 1\n",
      "51511          저렴하게 구매했네요.                 1\n",
      "51512               발림도 좋고                 1\n",
      "51513   피부가 쫀득쫀득해지는거 같습니다.                 1\n",
      "\n",
      "[51514 rows x 2 columns]\n"
     ]
    }
   ],
   "source": [
    "import json\n",
    "import pandas as pd\n",
    "import os\n",
    "\n",
    "# 모든 JSON 저장할 리스트\n",
    "all_data = []\n",
    "\n",
    "# 디렉토리 내의 모든 JSON 파일에 대해 처리\n",
    "directory = '../docs/ai_hub/data'\n",
    "for filename in os.listdir(directory):\n",
    "    if filename.endswith('.json'):\n",
    "        filepath = os.path.join(directory, filename)\n",
    "        with open(filepath, 'r', encoding='utf-8') as file:\n",
    "            data = json.load(file)\n",
    "            all_data.extend(data)\n",
    "\n",
    "# 'SentimentText'와 'SentimentPolarity'만 추출하여 DataFrame으로 변환\n",
    "df_list = []\n",
    "for entry in all_data:\n",
    "    for aspect in entry.get(\"Aspects\", []):\n",
    "        sentiment_text = aspect.get(\"SentimentText\", \"\")\n",
    "        sentiment_polarity = aspect.get(\"SentimentPolarity\", \"\")\n",
    "        df_list.append({\"SentimentText\": sentiment_text, \"SentimentPolarity\": sentiment_polarity})\n",
    "\n",
    "# DataFrame으로 변환\n",
    "df = pd.DataFrame(df_list)\n",
    "\n",
    "# DataFrame 출력\n",
    "print(df)\n",
    "\n",
    "df.to_csv('ai_hub_data.csv', index=False, encoding='utf-8-sig')"
   ],
   "metadata": {
    "collapsed": false,
    "ExecuteTime": {
     "end_time": "2023-12-11T17:12:40.312308300Z",
     "start_time": "2023-12-11T17:12:39.579567900Z"
    }
   },
   "id": "f39e35878f07b216"
  },
  {
   "cell_type": "code",
   "execution_count": null,
   "outputs": [],
   "source": [],
   "metadata": {
    "collapsed": false
   },
   "id": "d3d1599f12df35d0"
  }
 ],
 "metadata": {
  "kernelspec": {
   "display_name": "Python 3",
   "language": "python",
   "name": "python3"
  },
  "language_info": {
   "codemirror_mode": {
    "name": "ipython",
    "version": 2
   },
   "file_extension": ".py",
   "mimetype": "text/x-python",
   "name": "python",
   "nbconvert_exporter": "python",
   "pygments_lexer": "ipython2",
   "version": "2.7.6"
  }
 },
 "nbformat": 4,
 "nbformat_minor": 5
}
