{
 "cells": [
  {
   "cell_type": "code",
   "execution_count": 6,
   "id": "initial_id",
   "metadata": {
    "collapsed": true,
    "ExecuteTime": {
     "end_time": "2023-12-09T07:42:40.187085400Z",
     "start_time": "2023-12-09T07:42:39.895238200Z"
    }
   },
   "outputs": [],
   "source": [
    "# AI hub의 감성 분석 데이터 크롤링.\n",
    "\n",
    "import json\n",
    "import pandas as pd\n",
    "import os\n",
    "\n",
    "directory = '../docs/ai_hub/skin_data'\n",
    "\n",
    "# 모든 JSON 저장할 리스트\n",
    "all_data = []\n",
    "\n",
    "for filename in os.listdir(directory):\n",
    "    if filename.endswith('.json'):\n",
    "        filepath = os.path.join(directory, filename)\n",
    "        with open(filepath, 'r', encoding='utf-8') as file:\n",
    "            data = json.load(file)\n",
    "            all_data.extend(data)\n",
    "\n",
    "# DataFrame으로 변환\n",
    "df = pd.DataFrame(all_data)\n",
    "\n",
    "# 결측치 제거\n",
    "df.dropna(subset=['GeneralPolarity'], inplace=True)\n",
    "\n",
    "# 'GeneralPolarity(긍정1/중립0/부정-1)'와 'RawText' 컬럼만 남기고 나머지 삭제\n",
    "df = df[['GeneralPolarity', 'RawText']]\n",
    "\n",
    "df.to_csv('ai_hub.csv', index=False, encoding='utf-8-sig')"
   ]
  },
  {
   "cell_type": "code",
   "execution_count": null,
   "outputs": [],
   "source": [],
   "metadata": {
    "collapsed": false
   },
   "id": "f39e35878f07b216"
  }
 ],
 "metadata": {
  "kernelspec": {
   "display_name": "Python 3",
   "language": "python",
   "name": "python3"
  },
  "language_info": {
   "codemirror_mode": {
    "name": "ipython",
    "version": 2
   },
   "file_extension": ".py",
   "mimetype": "text/x-python",
   "name": "python",
   "nbconvert_exporter": "python",
   "pygments_lexer": "ipython2",
   "version": "2.7.6"
  }
 },
 "nbformat": 4,
 "nbformat_minor": 5
}
