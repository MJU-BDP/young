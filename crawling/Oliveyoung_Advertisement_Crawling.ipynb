{
 "cells": [
  {
   "cell_type": "code",
   "execution_count": 54,
   "metadata": {},
   "outputs": [
    {
     "name": "stderr",
     "output_type": "stream",
     "text": [
      "C:\\Users\\Joy\\anaconda3\\lib\\site-packages\\ipykernel_launcher.py:7: DeprecationWarning: executable_path has been deprecated, please pass in a Service object\n",
      "  import sys\n"
     ]
    }
   ],
   "source": [
    "# selenium 4\n",
    "from selenium import webdriver\n",
    "from selenium.webdriver.chrome.service import Service as ChromeService\n",
    "from webdriver_manager.chrome import ChromeDriverManager\n",
    "from selenium.webdriver.common.by import By\n",
    "\n",
    "driver = webdriver.Chrome('C:\\\\Users\\\\Joy\\\\.wdm\\\\drivers\\\\chromedriver\\\\win64\\\\119.0.6045.160\\\\chromedriver.exe')\n",
    "url = 'https://www.oliveyoung.co.kr/store/display/getMCategoryList.do?dispCatNo=100000100010013&fltDispCatNo=&prdSort=01&pageIdx=1&rowsPerPage=24&searchTypeSort=btn_thumb&plusButtonFlag=N&isLoginCnt=0&aShowCnt=0&bShowCnt=0&cShowCnt=0&trackingCd=Cat100000100010013_Small&amplitudePageGubun=&t_page=&t_click=&midCategory=%EC%8A%A4%ED%82%A8%2F%ED%86%A0%EB%84%88&smallCategory=%EC%A0%84%EC%B2%B4&checkBrnds=&lastChkBrnd='\n",
    "driver.get(url)\n",
    "\n"
   ]
  },
  {
   "cell_type": "code",
   "execution_count": 55,
   "metadata": {
    "scrolled": true
   },
   "outputs": [
    {
     "name": "stdout",
     "output_type": "stream",
     "text": [
      "현재 페이지 1\n",
      "0 번째\n",
      "[2023어워즈/3년연속] 아누아 어성초 77 수딩 토너 350ml 어워즈 한정 기획 (본품+리필팩+진정마스크1매)\n",
      "이미지 개수 9\n",
      "1 번째\n",

     ]
    }
   ],
   "source": [
    "from urllib import request\n",
    "from PIL import Image\n",
    "import pytesseract\n",
    "from io import BytesIO\n",
    "from konlpy.tag import Okt\n",
    "from collections import Counter\n",
    "from selenium import webdriver\n",
    "import pandas as pd\n",
    "\n",
    "    \n",
    "def in_page(start, end):\n",
    "    #첫 페이지 선 크롤링\n",
    "    len_page = end - start\n",
    "    #페이지 변경\n",
    "    for i in range(start, end):\n",
    "        page = driver.find_element(By.XPATH, '//*[@id=\"Container\"]/div[2]/a[{}]'.format(i+1))\n",
    "        page.click()\n",
    "        scrap()\n",
    "\n",
    "        \n",
    "def scrap():\n",
    "    print('현재 페이지', driver.find_element(By.XPATH, '/html/body/div[3]/div[8]/div[2]/strong').get_attribute('innerText'))\n",
    "    len_row = len(driver.find_elements(By.XPATH, '//*[@id=\"Contents\"]/ul'))\n",
    "    for row in range(1, len_row):\n",
    "        len_col = len(driver.find_elements(By.XPATH, '//*[@id=\"Contents\"]/ul[{}]/li'.format(row+1)))\n",
    "        for col in range(len_col):\n",
    "            print(len(advertisement),\"번째\")\n",
    "            item = driver.find_element(By.XPATH, '//*[@id=\"Contents\"]/ul[{}]/li[{}]/div/a'.format(row+1, col+1))\n",
    "            item.click()\n",
    "            \n",
    "            driver.implicitly_wait(15)\n",
    "            item_name = driver.find_element(By.XPATH, '//*[@id=\"Contents\"]/div[2]/div[2]/div/p[2]').get_attribute('innerText')\n",
    "            print(item_name)\n",
    "            len_img = len(driver.find_elements(By.XPATH, '//*[@id=\"Contents\"]/div[6]/div[1]/div[1]/img'))\n",
    "            print(\"이미지 개수\",len_img)\n",
    "            nouns = []\n",
    "            text = ''\n",
    "            for k in range(len_img):\n",
    "                img_elm = driver.find_element(By.XPATH, '//*[@id=\"Contents\"]/div[6]/div[1]/div[1]/img[{}]'.format(k+1))\n",
    "                image_url = img_elm.get_attribute('src')\n",
    "                pytesseract.pytesseract.tesseract_cmd = r'C:\\Program Files\\Tesseract-OCR\\tesseract.exe'\n",
    "                try:\n",
    "                    res = request.urlopen(image_url).read()\n",
    "                    img = Image.open(BytesIO(res))\n",
    "                    # 텍스트 추출\n",
    "                    text += pytesseract.image_to_string(img, lang='kor+eng')\n",
    "                    # 텍스트 출력\n",
    "#                     okt = Okt()\n",
    "#                     nouns += okt.nouns(text)\n",
    "                except:\n",
    "                    continue\n",
    "                # 글자수 1 자르기\n",
    "#             word = [x for x in nouns if len(x) >= 2]\n",
    "#             count = Counter(word)\n",
    "#             common_word = count.most_common(10)\n",
    "#             print(common_word)\n",
    "            \n",
    "            advertisement.loc[len(advertisement)] = [item_name, len_img, text]\n",
    "            driver.back()  \n",
    "    return \n",
    "        \n",
    "\n",
    "if __name__ == \"__main__\":\n",
    "    advertisement = pd.DataFrame({'name' : [],\n",
    "                      'len_img' : [],\n",
    "                      'ad' : []})\n",
    "    scrap()\n",
    "    in_page(0,10)\n",
    "    in_page(1,4)\n",
    "\n",
    "\n",
    "                      "
   ]
  },
  {
   "cell_type": "code",
   "execution_count": 56,
   "metadata": {},
   "outputs": [],
   "source": [
    "advertisement.drop_duplicates(subset='name', ignore_index=True, inplace=True)"
   ]
  },
  {
   "cell_type": "code",
   "execution_count": 57,
   "metadata": {},
   "outputs": [
    {
     "data": {
      "text/html": [
       "<div>\n",
       "<style scoped>\n",
       "    .dataframe tbody tr th:only-of-type {\n",
       "        vertical-align: middle;\n",
       "    }\n",
       "\n",
       "    .dataframe tbody tr th {\n",
       "        vertical-align: top;\n",
       "    }\n",
       "\n",
       "    .dataframe thead th {\n",
       "        text-align: right;\n",
       "    }\n",
       "</style>\n",
       "<table border=\"1\" class=\"dataframe\">\n",
       "  <thead>\n",
       "    <tr style=\"text-align: right;\">\n",
       "      <th></th>\n",
       "      <th>name</th>\n",
       "      <th>len_img</th>\n",
       "      <th>ad</th>\n",
       "    </tr>\n",
       "  </thead>\n",
       "  <tbody>\n",
       "    <tr>\n",
       "      <th>0</th>\n",
       "      <td>[2023어워즈/3년연속] 아누아 어성초 77 수딩 토너 350ml 어워즈 한정 기...</td>\n",
       "      <td>9.0</td>\n",
       "      <td>회\\n\\nOLIVE YOUNG 단독 어워즈 한정기획\\naclBS 버워스 토너 부문\\...</td>\n",
       "    </tr>\n",
       "    <tr>\n",
       "      <th>1</th>\n",
       "      <td>[12/4 하루특가][2023어워즈] 아비브 어성초 카밍 토너 스킨부스터 더블 기획...</td>\n",
       "      <td>4.0</td>\n",
       "      <td>2023 올리브영 어워즈\\n\\nWINNER\\n\\n진정 케어의 기준\\n\\n아비브 어성...</td>\n",
       "    </tr>\n",
       "    <tr>\n",
       "      <th>2</th>\n",
       "      <td>[한정기획] 라네즈 크림스킨 170ml 리필 기획 (+170ml 리필)</td>\n",
       "      <td>10.0</td>\n",
       "      <td>크림스킨 1+1리필팩 기획 세트\\n\\n=\\n\\n#1+1기획 세트\\n\\nLANEIGE...</td>\n",
       "    </tr>\n",
       "    <tr>\n",
       "      <th>3</th>\n",
       "      <td>[2023어워즈] 라운드랩 1025 독도 토너 500ml 어워즈 한정기획(+크림50...</td>\n",
       "      <td>17.0</td>\n",
       "      <td>OLIVE (°) YOUNG 단독구성\\n\\n2023\\nOLIVE YOUNG\\nAWA...</td>\n",
       "    </tr>\n",
       "    <tr>\n",
       "      <th>4</th>\n",
       "      <td>[백현팬싸응모]브링그린 티트리시카 수딩 토너 500ml 어워즈 한정기획(+크림20m...</td>\n",
       "      <td>11.0</td>\n",
       "      <td>SHH 강력해진 티트리 시카로\\n더 싸르게 케어랭\\n올리브영 대표 #트러블토너\\n\\...</td>\n",
       "    </tr>\n",
       "  </tbody>\n",
       "</table>\n",
       "</div>"
      ],
      "text/plain": [
       "                                                name  len_img  \\\n",
       "0  [2023어워즈/3년연속] 아누아 어성초 77 수딩 토너 350ml 어워즈 한정 기...      9.0   \n",
       "1  [12/4 하루특가][2023어워즈] 아비브 어성초 카밍 토너 스킨부스터 더블 기획...      4.0   \n",
       "2            [한정기획] 라네즈 크림스킨 170ml 리필 기획 (+170ml 리필)     10.0   \n",
       "3  [2023어워즈] 라운드랩 1025 독도 토너 500ml 어워즈 한정기획(+크림50...     17.0   \n",
       "4  [백현팬싸응모]브링그린 티트리시카 수딩 토너 500ml 어워즈 한정기획(+크림20m...     11.0   \n",
       "\n",
       "                                                  ad  \n",
       "0  회\\n\\nOLIVE YOUNG 단독 어워즈 한정기획\\naclBS 버워스 토너 부문\\...  \n",
       "1  2023 올리브영 어워즈\\n\\nWINNER\\n\\n진정 케어의 기준\\n\\n아비브 어성...  \n",
       "2  크림스킨 1+1리필팩 기획 세트\\n\\n=\\n\\n#1+1기획 세트\\n\\nLANEIGE...  \n",
       "3  OLIVE (°) YOUNG 단독구성\\n\\n2023\\nOLIVE YOUNG\\nAWA...  \n",
       "4  SHH 강력해진 티트리 시카로\\n더 싸르게 케어랭\\n올리브영 대표 #트러블토너\\n\\...  "
      ]
     },
     "execution_count": 57,
     "metadata": {},
     "output_type": "execute_result"
    }
   ],
   "source": [
    "advertisement.head(5)"
   ]
  },
  {
   "cell_type": "code",
   "execution_count": 58,
   "metadata": {},
   "outputs": [
    {
     "data": {
      "text/plain": [
       "200"
      ]
     },
     "execution_count": 58,
     "metadata": {},
     "output_type": "execute_result"
    }
   ],
   "source": [
    "len(advertisement[advertisement.len_img != 0.0])"
   ]
  },
  {
   "cell_type": "code",
   "execution_count": null,
   "metadata": {},
   "outputs": [],
   "source": []
  }
 ],
 "metadata": {
  "kernelspec": {
   "display_name": "Python 3",
   "language": "python",
   "name": "python3"
  },
  "language_info": {
   "codemirror_mode": {
    "name": "ipython",
    "version": 3
   },
   "file_extension": ".py",
   "mimetype": "text/x-python",
   "name": "python",
   "nbconvert_exporter": "python",
   "pygments_lexer": "ipython3",
   "version": "3.7.6"
  }
 },
 "nbformat": 4,
 "nbformat_minor": 4
}
