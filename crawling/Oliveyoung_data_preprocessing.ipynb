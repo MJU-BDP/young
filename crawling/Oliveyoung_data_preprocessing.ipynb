{
 "cells": [
  {
   "cell_type": "code",
   "execution_count": 58,
   "metadata": {},
   "outputs": [
    {
     "name": "stderr",
     "output_type": "stream",
     "text": [
      "C:\\Users\\Joy\\anaconda3\\lib\\site-packages\\konlpy\\tag\\_okt.py:17: UserWarning: \"Twitter\" has changed to \"Okt\" since KoNLPy v0.4.5.\n",
      "  warn('\"Twitter\" has changed to \"Okt\" since KoNLPy v0.4.5.')\n"
     ]
    }
   ],
   "source": [
    "import re\n",
    "import pandas as pd\n",
    "from ckonlpy.tag import Twitter\n",
    "import numpy as np\n",
    "\n",
    "\n",
    "twitter = Twitter()\n",
    "twitter.add_dictionary(['흡수력', '끈적임', '트러블', '자극적', '내돈내산', '가성비', '사용감', '저자극', '민감성', '화농성', '블랙헤드', '대용량', '리무버', '밀착력', '유튜버', '강추', '수분감', '데일리', '유분기', '정착템', '바디로션', '클렌징오일', '피부결', '스킨팩', '제형', '속건조', '복합성', '지성', '건성', '클렌징워터', '재구매의사', '재구매', '재구매 의사', '닦토', '흡토', '수부지', '화장솜'], 'Noun')\n",
    "twitter.add_dictionary(['가라앉다', '보들보들하다'], 'Adjective')\n",
    "\n",
    "f = open('stop_words.txt')\n",
    "stopwords = f.read().split()\n",
    "\n",
    "\n",
    "def preprocess(text):\n",
    "    tokens = []\n",
    "    non_kor_chars = re.compile('[^ 가-힣]')\n",
    "    word = non_kor_chars.sub('', text)\n",
    "    token = [t for (t,pos) in twitter.pos(text, stem=True) if pos in ['Noun', 'Verb', 'Adjective'] and t not in stopwords and len(t) > 1]\n",
    "    preprocessed = ' '.join(token)\n",
    "    return preprocessed\n",
    "\n"
   ]
  },
  {
   "cell_type": "code",
   "execution_count": null,
   "metadata": {},
   "outputs": [],
   "source": [
    "### advertisement 데이터 전처리"
   ]
  },
  {
   "cell_type": "code",
   "execution_count": 59,
   "metadata": {},
   "outputs": [],
   "source": [
    "advertisement = pd.read_csv(\"oliveyoung_advertisement.csv\", encoding=\"utf-8\")"
   ]
  },
  {
   "cell_type": "code",
   "execution_count": 61,
   "metadata": {},
   "outputs": [
    {
     "data": {
      "text/html": [
       "<div>\n",
       "<style scoped>\n",
       "    .dataframe tbody tr th:only-of-type {\n",
       "        vertical-align: middle;\n",
       "    }\n",
       "\n",
       "    .dataframe tbody tr th {\n",
       "        vertical-align: top;\n",
       "    }\n",
       "\n",
       "    .dataframe thead th {\n",
       "        text-align: right;\n",
       "    }\n",
       "</style>\n",
       "<table border=\"1\" class=\"dataframe\">\n",
       "  <thead>\n",
       "    <tr style=\"text-align: right;\">\n",
       "      <th></th>\n",
       "      <th>Unnamed: 0</th>\n",
       "      <th>name</th>\n",
       "      <th>len_img</th>\n",
       "      <th>ad</th>\n",
       "    </tr>\n",
       "  </thead>\n",
       "  <tbody>\n",
       "    <tr>\n",
       "      <th>0</th>\n",
       "      <td>0</td>\n",
       "      <td>[2023어워즈/3년연속] 아누아 어성초 77 수딩 토너 350ml 어워즈 한정 기...</td>\n",
       "      <td>9.0</td>\n",
       "      <td>회\\n\\nOLIVE YOUNG 단독 어워즈 한정기획\\naclBS 버워스 토너 부문\\...</td>\n",
       "    </tr>\n",
       "    <tr>\n",
       "      <th>1</th>\n",
       "      <td>1</td>\n",
       "      <td>[12/4 하루특가][2023어워즈] 아비브 어성초 카밍 토너 스킨부스터 더블 기획...</td>\n",
       "      <td>4.0</td>\n",
       "      <td>2023 올리브영 어워즈\\n\\nWINNER\\n\\n진정 케어의 기준\\n\\n아비브 어성...</td>\n",
       "    </tr>\n",
       "    <tr>\n",
       "      <th>2</th>\n",
       "      <td>2</td>\n",
       "      <td>[한정기획] 라네즈 크림스킨 170ml 리필 기획 (+170ml 리필)</td>\n",
       "      <td>10.0</td>\n",
       "      <td>크림스킨 1+1리필팩 기획 세트\\n\\n=\\n\\n#1+1기획 세트\\n\\nLANEIGE...</td>\n",
       "    </tr>\n",
       "    <tr>\n",
       "      <th>3</th>\n",
       "      <td>3</td>\n",
       "      <td>[2023어워즈] 라운드랩 1025 독도 토너 500ml 어워즈 한정기획(+크림50...</td>\n",
       "      <td>17.0</td>\n",
       "      <td>OLIVE (°) YOUNG 단독구성\\n\\n2023\\nOLIVE YOUNG\\nAWA...</td>\n",
       "    </tr>\n",
       "    <tr>\n",
       "      <th>4</th>\n",
       "      <td>4</td>\n",
       "      <td>[백현팬싸응모]브링그린 티트리시카 수딩 토너 500ml 어워즈 한정기획(+크림20m...</td>\n",
       "      <td>11.0</td>\n",
       "      <td>SHH 강력해진 티트리 시카로\\n더 싸르게 케어랭\\n올리브영 대표 #트러블토너\\n\\...</td>\n",
       "    </tr>\n",
       "  </tbody>\n",
       "</table>\n",
       "</div>"
      ],
      "text/plain": [
       "   Unnamed: 0                                               name  len_img  \\\n",
       "0           0  [2023어워즈/3년연속] 아누아 어성초 77 수딩 토너 350ml 어워즈 한정 기...      9.0   \n",
       "1           1  [12/4 하루특가][2023어워즈] 아비브 어성초 카밍 토너 스킨부스터 더블 기획...      4.0   \n",
       "2           2            [한정기획] 라네즈 크림스킨 170ml 리필 기획 (+170ml 리필)     10.0   \n",
       "3           3  [2023어워즈] 라운드랩 1025 독도 토너 500ml 어워즈 한정기획(+크림50...     17.0   \n",
       "4           4  [백현팬싸응모]브링그린 티트리시카 수딩 토너 500ml 어워즈 한정기획(+크림20m...     11.0   \n",
       "\n",
       "                                                  ad  \n",
       "0  회\\n\\nOLIVE YOUNG 단독 어워즈 한정기획\\naclBS 버워스 토너 부문\\...  \n",
       "1  2023 올리브영 어워즈\\n\\nWINNER\\n\\n진정 케어의 기준\\n\\n아비브 어성...  \n",
       "2  크림스킨 1+1리필팩 기획 세트\\n\\n=\\n\\n#1+1기획 세트\\n\\nLANEIGE...  \n",
       "3  OLIVE (°) YOUNG 단독구성\\n\\n2023\\nOLIVE YOUNG\\nAWA...  \n",
       "4  SHH 강력해진 티트리 시카로\\n더 싸르게 케어랭\\n올리브영 대표 #트러블토너\\n\\...  "
      ]
     },
     "execution_count": 61,
     "metadata": {},
     "output_type": "execute_result"
    }
   ],
   "source": [
    "advertisement.head(5)"
   ]
  },
  {
   "cell_type": "code",
   "execution_count": 62,
   "metadata": {},
   "outputs": [],
   "source": [
    "advertisement.len_img = advertisement.len_img.astype(int)"
   ]
  },
  {
   "cell_type": "code",
   "execution_count": 63,
   "metadata": {},
   "outputs": [],
   "source": [
    "# 기본 전처리\n",
    "advertisement.ad = advertisement.ad.apply(preprocess)"
   ]
  },
  {
   "cell_type": "code",
   "execution_count": null,
   "metadata": {},
   "outputs": [],
   "source": [
    "# 기타 결측치 -> nan -> drop\n",
    "advertisement = advertisement.replace('', np.nan)\n",
    "advertisement = advertisement.dropna()\n",
    "advertisement = advertisement.reset_index(drop=True)"
   ]
  },
  {
   "cell_type": "code",
   "execution_count": 65,
   "metadata": {},
   "outputs": [
    {
     "data": {
      "text/plain": [
       "199"
      ]
     },
     "execution_count": 65,
     "metadata": {},
     "output_type": "execute_result"
    }
   ],
   "source": [
    "len(advertisement)"
   ]
  },
  {
   "cell_type": "code",
   "execution_count": 67,
   "metadata": {},
   "outputs": [
    {
     "data": {
      "text/html": [
       "<div>\n",
       "<style scoped>\n",
       "    .dataframe tbody tr th:only-of-type {\n",
       "        vertical-align: middle;\n",
       "    }\n",
       "\n",
       "    .dataframe tbody tr th {\n",
       "        vertical-align: top;\n",
       "    }\n",
       "\n",
       "    .dataframe thead th {\n",
       "        text-align: right;\n",
       "    }\n",
       "</style>\n",
       "<table border=\"1\" class=\"dataframe\">\n",
       "  <thead>\n",
       "    <tr style=\"text-align: right;\">\n",
       "      <th></th>\n",
       "      <th>name</th>\n",
       "      <th>len_img</th>\n",
       "      <th>ad</th>\n",
       "    </tr>\n",
       "  </thead>\n",
       "  <tbody>\n",
       "    <tr>\n",
       "      <th>0</th>\n",
       "      <td>[2023어워즈/3년연속] 아누아 어성초 77 수딩 토너 350ml 어워즈 한정 기...</td>\n",
       "      <td>9</td>\n",
       "      <td>단독 어워즈 한정 기획 버워스 토너 부문 단독 어워즈 한정 기획 아누 어성초 수딩 ...</td>\n",
       "    </tr>\n",
       "    <tr>\n",
       "      <th>1</th>\n",
       "      <td>[12/4 하루특가][2023어워즈] 아비브 어성초 카밍 토너 스킨부스터 더블 기획...</td>\n",
       "      <td>4</td>\n",
       "      <td>올리브영 어워즈 진정 케어 기준 아비 어성초 토너 스킨 토너 어성초 토너 더블 어워...</td>\n",
       "    </tr>\n",
       "    <tr>\n",
       "      <th>2</th>\n",
       "      <td>[한정기획] 라네즈 크림스킨 170ml 리필 기획 (+170ml 리필)</td>\n",
       "      <td>10</td>\n",
       "      <td>크림 스킨 리필팩 기획 세트 기획 세트 기획 세트 구성 크림 스킨 리필팩 오특 비아...</td>\n",
       "    </tr>\n",
       "    <tr>\n",
       "      <th>3</th>\n",
       "      <td>[2023어워즈] 라운드랩 1025 독도 토너 500ml 어워즈 한정기획(+크림50...</td>\n",
       "      <td>17</td>\n",
       "      <td>단독 구성 자작나무 수분 크림 수분 진정 비타 일루 동시 차오 수분 필요 지치다 피...</td>\n",
       "    </tr>\n",
       "    <tr>\n",
       "      <th>4</th>\n",
       "      <td>[백현팬싸응모]브링그린 티트리시카 수딩 토너 500ml 어워즈 한정기획(+크림20m...</td>\n",
       "      <td>11</td>\n",
       "      <td>강력 트리 싸르 케어 올리브영 대표 트러블 토너 수상 올리브영 어워즈 스킨 토너 부...</td>\n",
       "    </tr>\n",
       "    <tr>\n",
       "      <th>...</th>\n",
       "      <td>...</td>\n",
       "      <td>...</td>\n",
       "      <td>...</td>\n",
       "    </tr>\n",
       "    <tr>\n",
       "      <th>194</th>\n",
       "      <td>더마펌 울트라 수딩 토너 R4 200ml (수분진정)</td>\n",
       "      <td>9</td>\n",
       "      <td>피부 진정 순도 아줄렌 놀랍다 진정 능력 라인 민감 피부 찾다 저자극 진정 토너 더...</td>\n",
       "    </tr>\n",
       "    <tr>\n",
       "      <th>195</th>\n",
       "      <td>아비브 어성초 카밍 토너 스킨부스터 500ml+화장솜 30매 증정 기획</td>\n",
       "      <td>3</td>\n",
       "      <td>단독 기획 어성초 토너 대용량 기획 진정 토너 저자극 진정 진정 저자극 피부결 케어...</td>\n",
       "    </tr>\n",
       "    <tr>\n",
       "      <th>196</th>\n",
       "      <td>헤이네이처 어성초 스킨 토너 모이스처라이저 150ml (촉촉)</td>\n",
       "      <td>6</td>\n",
       "      <td>어성초 스킨 타입 안내 올리브영 성조 스킨 촉촉 타입 운영 죽다 이다 구매 참고 바...</td>\n",
       "    </tr>\n",
       "    <tr>\n",
       "      <th>197</th>\n",
       "      <td>더말로지카 멀티-액티브 토너 50ml</td>\n",
       "      <td>2</td>\n",
       "      <td>피부 전문가 의하다 만들다 어진 피부 전문 코스 브랜드 말로 서로 피부 밉다 해결 ...</td>\n",
       "    </tr>\n",
       "    <tr>\n",
       "      <th>198</th>\n",
       "      <td>[박보검 PICK] 비오템 옴므 포스 수프림 토너 200ml</td>\n",
       "      <td>1</td>\n",
       "      <td>상품 설명 프록실린 성분 삼나무 추출 성분 즉각 피부 진정 피부 탄력 증가 토너 사...</td>\n",
       "    </tr>\n",
       "  </tbody>\n",
       "</table>\n",
       "<p>199 rows × 3 columns</p>\n",
       "</div>"
      ],
      "text/plain": [
       "                                                  name  len_img  \\\n",
       "0    [2023어워즈/3년연속] 아누아 어성초 77 수딩 토너 350ml 어워즈 한정 기...        9   \n",
       "1    [12/4 하루특가][2023어워즈] 아비브 어성초 카밍 토너 스킨부스터 더블 기획...        4   \n",
       "2              [한정기획] 라네즈 크림스킨 170ml 리필 기획 (+170ml 리필)       10   \n",
       "3    [2023어워즈] 라운드랩 1025 독도 토너 500ml 어워즈 한정기획(+크림50...       17   \n",
       "4    [백현팬싸응모]브링그린 티트리시카 수딩 토너 500ml 어워즈 한정기획(+크림20m...       11   \n",
       "..                                                 ...      ...   \n",
       "194                      더마펌 울트라 수딩 토너 R4 200ml (수분진정)        9   \n",
       "195            아비브 어성초 카밍 토너 스킨부스터 500ml+화장솜 30매 증정 기획        3   \n",
       "196                 헤이네이처 어성초 스킨 토너 모이스처라이저 150ml (촉촉)        6   \n",
       "197                               더말로지카 멀티-액티브 토너 50ml        2   \n",
       "198                  [박보검 PICK] 비오템 옴므 포스 수프림 토너 200ml        1   \n",
       "\n",
       "                                                    ad  \n",
       "0    단독 어워즈 한정 기획 버워스 토너 부문 단독 어워즈 한정 기획 아누 어성초 수딩 ...  \n",
       "1    올리브영 어워즈 진정 케어 기준 아비 어성초 토너 스킨 토너 어성초 토너 더블 어워...  \n",
       "2    크림 스킨 리필팩 기획 세트 기획 세트 기획 세트 구성 크림 스킨 리필팩 오특 비아...  \n",
       "3    단독 구성 자작나무 수분 크림 수분 진정 비타 일루 동시 차오 수분 필요 지치다 피...  \n",
       "4    강력 트리 싸르 케어 올리브영 대표 트러블 토너 수상 올리브영 어워즈 스킨 토너 부...  \n",
       "..                                                 ...  \n",
       "194  피부 진정 순도 아줄렌 놀랍다 진정 능력 라인 민감 피부 찾다 저자극 진정 토너 더...  \n",
       "195  단독 기획 어성초 토너 대용량 기획 진정 토너 저자극 진정 진정 저자극 피부결 케어...  \n",
       "196  어성초 스킨 타입 안내 올리브영 성조 스킨 촉촉 타입 운영 죽다 이다 구매 참고 바...  \n",
       "197  피부 전문가 의하다 만들다 어진 피부 전문 코스 브랜드 말로 서로 피부 밉다 해결 ...  \n",
       "198  상품 설명 프록실린 성분 삼나무 추출 성분 즉각 피부 진정 피부 탄력 증가 토너 사...  \n",
       "\n",
       "[199 rows x 3 columns]"
      ]
     },
     "execution_count": 67,
     "metadata": {},
     "output_type": "execute_result"
    }
   ],
   "source": [
    "advertisement.loc[:,['name', 'len_img', 'ad']]"
   ]
  },
  {
   "cell_type": "code",
   "execution_count": 76,
   "metadata": {},
   "outputs": [
    {
     "data": {
      "text/html": [
       "<div>\n",
       "<style scoped>\n",
       "    .dataframe tbody tr th:only-of-type {\n",
       "        vertical-align: middle;\n",
       "    }\n",
       "\n",
       "    .dataframe tbody tr th {\n",
       "        vertical-align: top;\n",
       "    }\n",
       "\n",
       "    .dataframe thead th {\n",
       "        text-align: right;\n",
       "    }\n",
       "</style>\n",
       "<table border=\"1\" class=\"dataframe\">\n",
       "  <thead>\n",
       "    <tr style=\"text-align: right;\">\n",
       "      <th></th>\n",
       "      <th>Unnamed: 0</th>\n",
       "      <th>name</th>\n",
       "      <th>len_img</th>\n",
       "      <th>ad</th>\n",
       "    </tr>\n",
       "  </thead>\n",
       "  <tbody>\n",
       "    <tr>\n",
       "      <th>0</th>\n",
       "      <td>0</td>\n",
       "      <td>[2023어워즈/3년연속] 아누아 어성초 77 수딩 토너 350ml 어워즈 한정 기...</td>\n",
       "      <td>9</td>\n",
       "      <td>단독 어워즈 한정 기획 버워스 토너 부문 단독 어워즈 한정 기획 아누 어성초 수딩 ...</td>\n",
       "    </tr>\n",
       "    <tr>\n",
       "      <th>1</th>\n",
       "      <td>1</td>\n",
       "      <td>[12/4 하루특가][2023어워즈] 아비브 어성초 카밍 토너 스킨부스터 더블 기획...</td>\n",
       "      <td>4</td>\n",
       "      <td>올리브영 어워즈 진정 케어 기준 아비 어성초 토너 스킨 토너 어성초 토너 더블 어워...</td>\n",
       "    </tr>\n",
       "    <tr>\n",
       "      <th>2</th>\n",
       "      <td>2</td>\n",
       "      <td>[한정기획] 라네즈 크림스킨 170ml 리필 기획 (+170ml 리필)</td>\n",
       "      <td>10</td>\n",
       "      <td>크림 스킨 리필팩 기획 세트 기획 세트 기획 세트 구성 크림 스킨 리필팩 오특 비아...</td>\n",
       "    </tr>\n",
       "    <tr>\n",
       "      <th>3</th>\n",
       "      <td>3</td>\n",
       "      <td>[2023어워즈] 라운드랩 1025 독도 토너 500ml 어워즈 한정기획(+크림50...</td>\n",
       "      <td>17</td>\n",
       "      <td>단독 구성 자작나무 수분 크림 수분 진정 비타 일루 동시 차오 수분 필요 지치다 피...</td>\n",
       "    </tr>\n",
       "    <tr>\n",
       "      <th>4</th>\n",
       "      <td>4</td>\n",
       "      <td>[백현팬싸응모]브링그린 티트리시카 수딩 토너 500ml 어워즈 한정기획(+크림20m...</td>\n",
       "      <td>11</td>\n",
       "      <td>강력 트리 싸르 케어 올리브영 대표 트러블 토너 수상 올리브영 어워즈 스킨 토너 부...</td>\n",
       "    </tr>\n",
       "  </tbody>\n",
       "</table>\n",
       "</div>"
      ],
      "text/plain": [
       "   Unnamed: 0                                               name  len_img  \\\n",
       "0           0  [2023어워즈/3년연속] 아누아 어성초 77 수딩 토너 350ml 어워즈 한정 기...        9   \n",
       "1           1  [12/4 하루특가][2023어워즈] 아비브 어성초 카밍 토너 스킨부스터 더블 기획...        4   \n",
       "2           2            [한정기획] 라네즈 크림스킨 170ml 리필 기획 (+170ml 리필)       10   \n",
       "3           3  [2023어워즈] 라운드랩 1025 독도 토너 500ml 어워즈 한정기획(+크림50...       17   \n",
       "4           4  [백현팬싸응모]브링그린 티트리시카 수딩 토너 500ml 어워즈 한정기획(+크림20m...       11   \n",
       "\n",
       "                                                  ad  \n",
       "0  단독 어워즈 한정 기획 버워스 토너 부문 단독 어워즈 한정 기획 아누 어성초 수딩 ...  \n",
       "1  올리브영 어워즈 진정 케어 기준 아비 어성초 토너 스킨 토너 어성초 토너 더블 어워...  \n",
       "2  크림 스킨 리필팩 기획 세트 기획 세트 기획 세트 구성 크림 스킨 리필팩 오특 비아...  \n",
       "3  단독 구성 자작나무 수분 크림 수분 진정 비타 일루 동시 차오 수분 필요 지치다 피...  \n",
       "4  강력 트리 싸르 케어 올리브영 대표 트러블 토너 수상 올리브영 어워즈 스킨 토너 부...  "
      ]
     },
     "execution_count": 76,
     "metadata": {},
     "output_type": "execute_result"
    }
   ],
   "source": [
    "advertisement.head(5)"
   ]
  },
  {
   "cell_type": "code",
   "execution_count": 69,
   "metadata": {},
   "outputs": [
    {
     "name": "stdout",
     "output_type": "stream",
     "text": [
      "파일 저장 완료\n"
     ]
    }
   ],
   "source": [
    "advertisement.to_csv('oliveyoung_advertisement_preprocessed.csv')\n",
    "print('파일 저장 완료')"
   ]
  },
  {
   "cell_type": "code",
   "execution_count": null,
   "metadata": {},
   "outputs": [],
   "source": [
    "### review 데이터 전처리"
   ]
  },
  {
   "cell_type": "code",
   "execution_count": 98,
   "metadata": {},
   "outputs": [],
   "source": [
    "review = pd.read_csv('review.csv', encoding='UTF-8')"
   ]
  },
  {
   "cell_type": "code",
   "execution_count": 99,
   "metadata": {},
   "outputs": [
    {
     "data": {
      "text/html": [
       "<div>\n",
       "<style scoped>\n",
       "    .dataframe tbody tr th:only-of-type {\n",
       "        vertical-align: middle;\n",
       "    }\n",
       "\n",
       "    .dataframe tbody tr th {\n",
       "        vertical-align: top;\n",
       "    }\n",
       "\n",
       "    .dataframe thead th {\n",
       "        text-align: right;\n",
       "    }\n",
       "</style>\n",
       "<table border=\"1\" class=\"dataframe\">\n",
       "  <thead>\n",
       "    <tr style=\"text-align: right;\">\n",
       "      <th></th>\n",
       "      <th>id</th>\n",
       "      <th>name</th>\n",
       "      <th>date</th>\n",
       "      <th>content</th>\n",
       "    </tr>\n",
       "  </thead>\n",
       "  <tbody>\n",
       "    <tr>\n",
       "      <th>0</th>\n",
       "      <td>A000000192697</td>\n",
       "      <td>[2023어워즈/3년연속] 아누아 어성초 77 수딩 토너 350ml 어워즈 한정 기...</td>\n",
       "      <td>2023.11.30</td>\n",
       "      <td>피부타입 : 복합성요 토너 없이는 못살아요겨울 강철 추위도 버티게 해주는 저의 최애...</td>\n",
       "    </tr>\n",
       "    <tr>\n",
       "      <th>1</th>\n",
       "      <td>A000000192697</td>\n",
       "      <td>[2023어워즈/3년연속] 아누아 어성초 77 수딩 토너 350ml 어워즈 한정 기...</td>\n",
       "      <td>2023.11.28</td>\n",
       "      <td>다른 토너로 갈아탔다가 환절기 때 피부가 뒤집어지고 너무 안 돌아와서 다시 구매합니...</td>\n",
       "    </tr>\n",
       "    <tr>\n",
       "      <th>2</th>\n",
       "      <td>A000000192697</td>\n",
       "      <td>[2023어워즈/3년연속] 아누아 어성초 77 수딩 토너 350ml 어워즈 한정 기...</td>\n",
       "      <td>2023.11.26</td>\n",
       "      <td>전 이거 하나로 흡토, 닦토 다 하고 있어요 자극없이 순하고 용량도 많아서 밤마다 ...</td>\n",
       "    </tr>\n",
       "    <tr>\n",
       "      <th>3</th>\n",
       "      <td>A000000192697</td>\n",
       "      <td>[2023어워즈/3년연속] 아누아 어성초 77 수딩 토너 350ml 어워즈 한정 기...</td>\n",
       "      <td>2023.11.19</td>\n",
       "      <td>자극없이 순하고 결 정돈하기 좋은 토너예요👍🏻민감성 지성 복합성 다 두루 쓰기 좋아요</td>\n",
       "    </tr>\n",
       "    <tr>\n",
       "      <th>4</th>\n",
       "      <td>A000000192697</td>\n",
       "      <td>[2023어워즈/3년연속] 아누아 어성초 77 수딩 토너 350ml 어워즈 한정 기...</td>\n",
       "      <td>2023.11.11</td>\n",
       "      <td>이제는 제 화장대에 없는게 말이 안되는 재구매템정말이지 공병만 몇 십병 만들었을거에...</td>\n",
       "    </tr>\n",
       "  </tbody>\n",
       "</table>\n",
       "</div>"
      ],
      "text/plain": [
       "              id                                               name  \\\n",
       "0  A000000192697  [2023어워즈/3년연속] 아누아 어성초 77 수딩 토너 350ml 어워즈 한정 기...   \n",
       "1  A000000192697  [2023어워즈/3년연속] 아누아 어성초 77 수딩 토너 350ml 어워즈 한정 기...   \n",
       "2  A000000192697  [2023어워즈/3년연속] 아누아 어성초 77 수딩 토너 350ml 어워즈 한정 기...   \n",
       "3  A000000192697  [2023어워즈/3년연속] 아누아 어성초 77 수딩 토너 350ml 어워즈 한정 기...   \n",
       "4  A000000192697  [2023어워즈/3년연속] 아누아 어성초 77 수딩 토너 350ml 어워즈 한정 기...   \n",
       "\n",
       "         date                                            content  \n",
       "0  2023.11.30  피부타입 : 복합성요 토너 없이는 못살아요겨울 강철 추위도 버티게 해주는 저의 최애...  \n",
       "1  2023.11.28  다른 토너로 갈아탔다가 환절기 때 피부가 뒤집어지고 너무 안 돌아와서 다시 구매합니...  \n",
       "2  2023.11.26  전 이거 하나로 흡토, 닦토 다 하고 있어요 자극없이 순하고 용량도 많아서 밤마다 ...  \n",
       "3  2023.11.19    자극없이 순하고 결 정돈하기 좋은 토너예요👍🏻민감성 지성 복합성 다 두루 쓰기 좋아요  \n",
       "4  2023.11.11  이제는 제 화장대에 없는게 말이 안되는 재구매템정말이지 공병만 몇 십병 만들었을거에...  "
      ]
     },
     "execution_count": 99,
     "metadata": {},
     "output_type": "execute_result"
    }
   ],
   "source": [
    "review.head(5)"
   ]
  },
  {
   "cell_type": "code",
   "execution_count": 100,
   "metadata": {},
   "outputs": [],
   "source": [
    "review.content = review.content.astype(str)"
   ]
  },
  {
   "cell_type": "code",
   "execution_count": 101,
   "metadata": {},
   "outputs": [],
   "source": [
    "# 기본 전처리\n",
    "review.content = review.content.apply(preprocess)"
   ]
  },
  {
   "cell_type": "code",
   "execution_count": 102,
   "metadata": {},
   "outputs": [],
   "source": [
    "# 기타 결측치 -> nan -> drop\n",
    "review = review.replace('', np.nan)\n",
    "review = review.dropna()\n",
    "review = review.reset_index(drop=True)"
   ]
  },
  {
   "cell_type": "code",
   "execution_count": 103,
   "metadata": {},
   "outputs": [
    {
     "data": {
      "text/html": [
       "<div>\n",
       "<style scoped>\n",
       "    .dataframe tbody tr th:only-of-type {\n",
       "        vertical-align: middle;\n",
       "    }\n",
       "\n",
       "    .dataframe tbody tr th {\n",
       "        vertical-align: top;\n",
       "    }\n",
       "\n",
       "    .dataframe thead th {\n",
       "        text-align: right;\n",
       "    }\n",
       "</style>\n",
       "<table border=\"1\" class=\"dataframe\">\n",
       "  <thead>\n",
       "    <tr style=\"text-align: right;\">\n",
       "      <th></th>\n",
       "      <th>id</th>\n",
       "      <th>name</th>\n",
       "      <th>date</th>\n",
       "      <th>content</th>\n",
       "    </tr>\n",
       "  </thead>\n",
       "  <tbody>\n",
       "    <tr>\n",
       "      <th>0</th>\n",
       "      <td>A000000192697</td>\n",
       "      <td>[2023어워즈/3년연속] 아누아 어성초 77 수딩 토너 350ml 어워즈 한정 기...</td>\n",
       "      <td>2023.11.30</td>\n",
       "      <td>피부 타입 복합성 토너 늘다 살다 겨울 강철 추위 버티다 해주 최애 이다 아아 요즘...</td>\n",
       "    </tr>\n",
       "    <tr>\n",
       "      <th>1</th>\n",
       "      <td>A000000192697</td>\n",
       "      <td>[2023어워즈/3년연속] 아누아 어성초 77 수딩 토너 350ml 어워즈 한정 기...</td>\n",
       "      <td>2023.11.28</td>\n",
       "      <td>토너 다가 환절기 피부 뒤지다 지고 돌아오다 구매 진정 좋다</td>\n",
       "    </tr>\n",
       "    <tr>\n",
       "      <th>2</th>\n",
       "      <td>A000000192697</td>\n",
       "      <td>[2023어워즈/3년연속] 아누아 어성초 77 수딩 토너 350ml 어워즈 한정 기...</td>\n",
       "      <td>2023.11.26</td>\n",
       "      <td>하나로 흡토 닦토 어요 자극 용량 많다 마다 화장솜 묻히다 얼굴 붙이 눕다 어요 화...</td>\n",
       "    </tr>\n",
       "    <tr>\n",
       "      <th>3</th>\n",
       "      <td>A000000192697</td>\n",
       "      <td>[2023어워즈/3년연속] 아누아 어성초 77 수딩 토너 350ml 어워즈 한정 기...</td>\n",
       "      <td>2023.11.19</td>\n",
       "      <td>자극 정돈 좋다 토너 민감성 지성 복합성 두루 쓰기 좋다</td>\n",
       "    </tr>\n",
       "    <tr>\n",
       "      <th>4</th>\n",
       "      <td>A000000192697</td>\n",
       "      <td>[2023어워즈/3년연속] 아누아 어성초 77 수딩 토너 350ml 어워즈 한정 기...</td>\n",
       "      <td>2023.11.11</td>\n",
       "      <td>이제 장대 안되다 재구매 정말 이지 공병 만들다 진정 워낙 효과 어성초 성분 들다 ...</td>\n",
       "    </tr>\n",
       "  </tbody>\n",
       "</table>\n",
       "</div>"
      ],
      "text/plain": [
       "              id                                               name  \\\n",
       "0  A000000192697  [2023어워즈/3년연속] 아누아 어성초 77 수딩 토너 350ml 어워즈 한정 기...   \n",
       "1  A000000192697  [2023어워즈/3년연속] 아누아 어성초 77 수딩 토너 350ml 어워즈 한정 기...   \n",
       "2  A000000192697  [2023어워즈/3년연속] 아누아 어성초 77 수딩 토너 350ml 어워즈 한정 기...   \n",
       "3  A000000192697  [2023어워즈/3년연속] 아누아 어성초 77 수딩 토너 350ml 어워즈 한정 기...   \n",
       "4  A000000192697  [2023어워즈/3년연속] 아누아 어성초 77 수딩 토너 350ml 어워즈 한정 기...   \n",
       "\n",
       "         date                                            content  \n",
       "0  2023.11.30  피부 타입 복합성 토너 늘다 살다 겨울 강철 추위 버티다 해주 최애 이다 아아 요즘...  \n",
       "1  2023.11.28                  토너 다가 환절기 피부 뒤지다 지고 돌아오다 구매 진정 좋다  \n",
       "2  2023.11.26  하나로 흡토 닦토 어요 자극 용량 많다 마다 화장솜 묻히다 얼굴 붙이 눕다 어요 화...  \n",
       "3  2023.11.19                    자극 정돈 좋다 토너 민감성 지성 복합성 두루 쓰기 좋다  \n",
       "4  2023.11.11  이제 장대 안되다 재구매 정말 이지 공병 만들다 진정 워낙 효과 어성초 성분 들다 ...  "
      ]
     },
     "execution_count": 103,
     "metadata": {},
     "output_type": "execute_result"
    }
   ],
   "source": [
    "review.head(5)"
   ]
  },
  {
   "cell_type": "code",
   "execution_count": 104,
   "metadata": {},
   "outputs": [],
   "source": [
    "review.to_csv('oliveyoung_review_preprocessed.csv')\n",
    "print('파일 저장 완료')"
   ]
  }
 ],
 "metadata": {
  "kernelspec": {
   "display_name": "Python 3",
   "language": "python",
   "name": "python3"
  },
  "language_info": {
   "codemirror_mode": {
    "name": "ipython",
    "version": 3
   },
   "file_extension": ".py",
   "mimetype": "text/x-python",
   "name": "python",
   "nbconvert_exporter": "python",
   "pygments_lexer": "ipython3",
   "version": "3.7.6"
  }
 },
 "nbformat": 4,
 "nbformat_minor": 4
}
